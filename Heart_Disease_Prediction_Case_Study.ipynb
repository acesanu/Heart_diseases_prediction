{
  "cells": [
    {
      "cell_type": "markdown",
      "metadata": {
        "id": "view-in-github",
        "colab_type": "text"
      },
      "source": [
        "<a href=\"https://colab.research.google.com/github/acesanu/Heart_diseases_prediction/blob/main/Heart_Disease_Prediction_Case_Study.ipynb\" target=\"_parent\"><img src=\"https://colab.research.google.com/assets/colab-badge.svg\" alt=\"Open In Colab\"/></a>"
      ]
    },
    {
      "cell_type": "code",
      "execution_count": null,
      "metadata": {
        "id": "jO6aNviViW-l"
      },
      "outputs": [],
      "source": []
    },
    {
      "cell_type": "markdown",
      "metadata": {
        "id": "FV6Ejlq9jSti"
      },
      "source": [
        "## Introduction.\n",
        "\n",
        "** Coronary Artery Disease**\n",
        "\n",
        "1) It refers to the narrowing or blockage of the coronary arteries, usually caused by the build-up of cholestrol and fatty deposits(called plaques) on the inner walls of the arteries.\n",
        "2) These plaques can restrict blood flow to the heart muscle by physically clogging the artery or by causing abnormal artery tone and function.\n",
        "3) This can cause chest pain called Angina. When one or more of the coronary arteries are completely blocked, a heart attack may occur.\n",
        "\n"
      ]
    },
    {
      "cell_type": "code",
      "execution_count": null,
      "metadata": {
        "colab": {
          "base_uri": "https://localhost:8080/"
        },
        "id": "BiZPpj9vkMez",
        "outputId": "ccea2fcd-1b9a-4a72-8b06-7b42ad1e0795"
      },
      "outputs": [
        {
          "name": "stdout",
          "output_type": "stream",
          "text": [
            "\u001b[?25l     \u001b[90m━━━━━━━━━━━━━━━━━━━━━━━━━━━━━━━━━━━━━━━━\u001b[0m \u001b[32m0.0/1.6 MB\u001b[0m \u001b[31m?\u001b[0m eta \u001b[36m-:--:--\u001b[0m\r\u001b[2K     \u001b[91m━━━━━━━\u001b[0m\u001b[90m╺\u001b[0m\u001b[90m━━━━━━━━━━━━━━━━━━━━━━━━━━━━━━━━\u001b[0m \u001b[32m0.3/1.6 MB\u001b[0m \u001b[31m8.3 MB/s\u001b[0m eta \u001b[36m0:00:01\u001b[0m\r\u001b[2K     \u001b[91m━━━━━━━━━━━━━━━━━━━━━━━━━━━━━━━━━━━━━━━\u001b[0m\u001b[91m╸\u001b[0m \u001b[32m1.6/1.6 MB\u001b[0m \u001b[31m25.4 MB/s\u001b[0m eta \u001b[36m0:00:01\u001b[0m\r\u001b[2K     \u001b[90m━━━━━━━━━━━━━━━━━━━━━━━━━━━━━━━━━━━━━━━━\u001b[0m \u001b[32m1.6/1.6 MB\u001b[0m \u001b[31m20.0 MB/s\u001b[0m eta \u001b[36m0:00:00\u001b[0m\n",
            "\u001b[?25h"
          ]
        }
      ],
      "source": [
        "# Installing & Importing Libraries\n",
        "!pip install -q datascience       # Package that is required by pandas profiling\n",
        "!pip install -q pandas-profiling  # Toolbox for Generating Statistics Report\n",
        "!pip install -q yellowbrick       # Toolbox for Measuring Machine Performance"
      ]
    },
    {
      "cell_type": "code",
      "execution_count": null,
      "metadata": {
        "colab": {
          "base_uri": "https://localhost:8080/"
        },
        "id": "2C0MwW8Zljq4",
        "outputId": "af180b04-48eb-45e4-a96e-81849dfd5dbf"
      },
      "outputs": [
        {
          "name": "stdout",
          "output_type": "stream",
          "text": [
            "\u001b[31mERROR: Could not find a version that satisfies the requirement upgrade (from versions: none)\u001b[0m\u001b[31m\n",
            "\u001b[0m\u001b[31mERROR: No matching distribution found for upgrade\u001b[0m\u001b[31m\n",
            "\u001b[0m\u001b[31mERROR: Could not find a version that satisfies the requirement upgrade (from versions: none)\u001b[0m\u001b[31m\n",
            "\u001b[0m\u001b[31mERROR: No matching distribution found for upgrade\u001b[0m\u001b[31m\n",
            "\u001b[0m"
          ]
        }
      ],
      "source": [
        "# Upgrading Libraries\n",
        "!pip install -q -- upgrade pandas-profiling\n",
        "!pip install -q -- upgrade yellowbrick"
      ]
    },
    {
      "cell_type": "code",
      "execution_count": null,
      "metadata": {
        "colab": {
          "base_uri": "https://localhost:8080/"
        },
        "id": "PumG2SitlxEg",
        "outputId": "0246445e-b3e9-4505-a33f-8c3cdb8865ed"
      },
      "outputs": [
        {
          "name": "stderr",
          "output_type": "stream",
          "text": [
            "<ipython-input-3-5d85bd80d220>:4: FutureWarning: pandas.util.testing is deprecated. Use the functions in the public API at pandas.testing instead.\n",
            "  import pandas.util.testing as tm\n"
          ]
        }
      ],
      "source": [
        "# Importing Libraries - For Panel Data Analysis\n",
        "import pandas as pd\n",
        "from pandas_profiling import ProfileReport\n",
        "import pandas.util.testing as tm\n",
        "pd.set_option('display.max_columns', None)\n",
        "pd.set_option('display.max_colwidth', None)\n",
        "pd.set_option('display.max_rows', None)\n",
        "pd.set_option('mode.chained_assignment', None)\n",
        "\n",
        "# For Numerical Python\n",
        "import numpy as np\n",
        "\n",
        "# For Random seed values\n",
        "from random import randint\n",
        "\n",
        "# For Scientific Python\n",
        "from scipy import stats\n",
        "\n",
        "# For datetime\n",
        "from datetime import datetime as dt\n",
        "\n",
        "# For Data Visualization\n",
        "import matplotlib.pyplot as plt\n",
        "%matplotlib inline\n",
        "import seaborn as sns\n",
        "\n",
        "# For Preprocessing\n",
        "from sklearn.preprocessing import StandardScaler\n",
        "\n",
        "# For Feature Selection\n",
        "from sklearn.feature_selection import SelectFromModel\n",
        "\n",
        "# For Feature Importances\n",
        "from yellowbrick.model_selection import FeatureImportances\n",
        "\n",
        "# For metrics evaluation\n",
        "from sklearn.metrics import precision_recall_curve, classification_report\n",
        "from sklearn.metrics import ConfusionMatrixDisplay\n",
        "\n",
        "# For Data Modeling\n",
        "from sklearn.model_selection import train_test_split, cross_val_score, GridSearchCV\n",
        "from sklearn.linear_model import LogisticRegression\n",
        "from sklearn.svm import SVC\n",
        "from sklearn.tree import DecisionTreeClassifier\n",
        "from sklearn.ensemble import RandomForestClassifier\n",
        "\n",
        "# To Disable Warnings\n",
        "import warnings\n",
        "warnings.filterwarnings(action=\"ignore\")"
      ]
    },
    {
      "cell_type": "code",
      "execution_count": null,
      "metadata": {
        "colab": {
          "base_uri": "https://localhost:8080/",
          "height": 288
        },
        "id": "R_dEQoL8oySk",
        "outputId": "18b3c8ce-2c93-4499-f8d7-5198c335d0f7"
      },
      "outputs": [
        {
          "name": "stdout",
          "output_type": "stream",
          "text": [
            "Data Shape:  (366, 14)\n"
          ]
        },
        {
          "data": {
            "text/html": [
              "\n",
              "  <div id=\"df-69cfd9d6-fad1-44b5-b7aa-81e0d7518e10\">\n",
              "    <div class=\"colab-df-container\">\n",
              "      <div>\n",
              "<style scoped>\n",
              "    .dataframe tbody tr th:only-of-type {\n",
              "        vertical-align: middle;\n",
              "    }\n",
              "\n",
              "    .dataframe tbody tr th {\n",
              "        vertical-align: top;\n",
              "    }\n",
              "\n",
              "    .dataframe thead th {\n",
              "        text-align: right;\n",
              "    }\n",
              "</style>\n",
              "<table border=\"1\" class=\"dataframe\">\n",
              "  <thead>\n",
              "    <tr style=\"text-align: right;\">\n",
              "      <th></th>\n",
              "      <th>age</th>\n",
              "      <th>sex</th>\n",
              "      <th>chest_pain_type</th>\n",
              "      <th>resting_blood_pressure</th>\n",
              "      <th>cholesterol</th>\n",
              "      <th>fasting_blood_sugar</th>\n",
              "      <th>rest_ecg</th>\n",
              "      <th>max_heart_rate_achieved</th>\n",
              "      <th>exercise_induced_angina</th>\n",
              "      <th>st_depression</th>\n",
              "      <th>st_slope</th>\n",
              "      <th>num_major_vessels</th>\n",
              "      <th>thalassemia</th>\n",
              "      <th>target</th>\n",
              "    </tr>\n",
              "  </thead>\n",
              "  <tbody>\n",
              "    <tr>\n",
              "      <th>0</th>\n",
              "      <td>63</td>\n",
              "      <td>1</td>\n",
              "      <td>asymptomatic</td>\n",
              "      <td>145</td>\n",
              "      <td>233.0</td>\n",
              "      <td>1</td>\n",
              "      <td>0</td>\n",
              "      <td>150.0</td>\n",
              "      <td>0</td>\n",
              "      <td>2.3</td>\n",
              "      <td>0</td>\n",
              "      <td>0</td>\n",
              "      <td>1</td>\n",
              "      <td>1</td>\n",
              "    </tr>\n",
              "    <tr>\n",
              "      <th>1</th>\n",
              "      <td>37</td>\n",
              "      <td>1</td>\n",
              "      <td>non-anginal pain</td>\n",
              "      <td>130</td>\n",
              "      <td>250.0</td>\n",
              "      <td>0</td>\n",
              "      <td>1</td>\n",
              "      <td>187.0</td>\n",
              "      <td>0</td>\n",
              "      <td>3.5</td>\n",
              "      <td>0</td>\n",
              "      <td>0</td>\n",
              "      <td>2</td>\n",
              "      <td>1</td>\n",
              "    </tr>\n",
              "    <tr>\n",
              "      <th>2</th>\n",
              "      <td>41</td>\n",
              "      <td>0</td>\n",
              "      <td>atypical angina</td>\n",
              "      <td>130</td>\n",
              "      <td>204.0</td>\n",
              "      <td>0</td>\n",
              "      <td>0</td>\n",
              "      <td>172.0</td>\n",
              "      <td>0</td>\n",
              "      <td>1.4</td>\n",
              "      <td>2</td>\n",
              "      <td>0</td>\n",
              "      <td>2</td>\n",
              "      <td>1</td>\n",
              "    </tr>\n",
              "    <tr>\n",
              "      <th>3</th>\n",
              "      <td>56</td>\n",
              "      <td>1</td>\n",
              "      <td>atypical angina</td>\n",
              "      <td>120</td>\n",
              "      <td>236.0</td>\n",
              "      <td>0</td>\n",
              "      <td>1</td>\n",
              "      <td>178.0</td>\n",
              "      <td>0</td>\n",
              "      <td>0.8</td>\n",
              "      <td>2</td>\n",
              "      <td>0</td>\n",
              "      <td>2</td>\n",
              "      <td>1</td>\n",
              "    </tr>\n",
              "    <tr>\n",
              "      <th>4</th>\n",
              "      <td>57</td>\n",
              "      <td>0</td>\n",
              "      <td>typical anginia</td>\n",
              "      <td>120</td>\n",
              "      <td>354.0</td>\n",
              "      <td>0</td>\n",
              "      <td>1</td>\n",
              "      <td>163.0</td>\n",
              "      <td>1</td>\n",
              "      <td>0.6</td>\n",
              "      <td>2</td>\n",
              "      <td>0</td>\n",
              "      <td>2</td>\n",
              "      <td>1</td>\n",
              "    </tr>\n",
              "  </tbody>\n",
              "</table>\n",
              "</div>\n",
              "      <button class=\"colab-df-convert\" onclick=\"convertToInteractive('df-69cfd9d6-fad1-44b5-b7aa-81e0d7518e10')\"\n",
              "              title=\"Convert this dataframe to an interactive table.\"\n",
              "              style=\"display:none;\">\n",
              "        \n",
              "  <svg xmlns=\"http://www.w3.org/2000/svg\" height=\"24px\"viewBox=\"0 0 24 24\"\n",
              "       width=\"24px\">\n",
              "    <path d=\"M0 0h24v24H0V0z\" fill=\"none\"/>\n",
              "    <path d=\"M18.56 5.44l.94 2.06.94-2.06 2.06-.94-2.06-.94-.94-2.06-.94 2.06-2.06.94zm-11 1L8.5 8.5l.94-2.06 2.06-.94-2.06-.94L8.5 2.5l-.94 2.06-2.06.94zm10 10l.94 2.06.94-2.06 2.06-.94-2.06-.94-.94-2.06-.94 2.06-2.06.94z\"/><path d=\"M17.41 7.96l-1.37-1.37c-.4-.4-.92-.59-1.43-.59-.52 0-1.04.2-1.43.59L10.3 9.45l-7.72 7.72c-.78.78-.78 2.05 0 2.83L4 21.41c.39.39.9.59 1.41.59.51 0 1.02-.2 1.41-.59l7.78-7.78 2.81-2.81c.8-.78.8-2.07 0-2.86zM5.41 20L4 18.59l7.72-7.72 1.47 1.35L5.41 20z\"/>\n",
              "  </svg>\n",
              "      </button>\n",
              "      \n",
              "  <style>\n",
              "    .colab-df-container {\n",
              "      display:flex;\n",
              "      flex-wrap:wrap;\n",
              "      gap: 12px;\n",
              "    }\n",
              "\n",
              "    .colab-df-convert {\n",
              "      background-color: #E8F0FE;\n",
              "      border: none;\n",
              "      border-radius: 50%;\n",
              "      cursor: pointer;\n",
              "      display: none;\n",
              "      fill: #1967D2;\n",
              "      height: 32px;\n",
              "      padding: 0 0 0 0;\n",
              "      width: 32px;\n",
              "    }\n",
              "\n",
              "    .colab-df-convert:hover {\n",
              "      background-color: #E2EBFA;\n",
              "      box-shadow: 0px 1px 2px rgba(60, 64, 67, 0.3), 0px 1px 3px 1px rgba(60, 64, 67, 0.15);\n",
              "      fill: #174EA6;\n",
              "    }\n",
              "\n",
              "    [theme=dark] .colab-df-convert {\n",
              "      background-color: #3B4455;\n",
              "      fill: #D2E3FC;\n",
              "    }\n",
              "\n",
              "    [theme=dark] .colab-df-convert:hover {\n",
              "      background-color: #434B5C;\n",
              "      box-shadow: 0px 1px 3px 1px rgba(0, 0, 0, 0.15);\n",
              "      filter: drop-shadow(0px 1px 2px rgba(0, 0, 0, 0.3));\n",
              "      fill: #FFFFFF;\n",
              "    }\n",
              "  </style>\n",
              "\n",
              "      <script>\n",
              "        const buttonEl =\n",
              "          document.querySelector('#df-69cfd9d6-fad1-44b5-b7aa-81e0d7518e10 button.colab-df-convert');\n",
              "        buttonEl.style.display =\n",
              "          google.colab.kernel.accessAllowed ? 'block' : 'none';\n",
              "\n",
              "        async function convertToInteractive(key) {\n",
              "          const element = document.querySelector('#df-69cfd9d6-fad1-44b5-b7aa-81e0d7518e10');\n",
              "          const dataTable =\n",
              "            await google.colab.kernel.invokeFunction('convertToInteractive',\n",
              "                                                     [key], {});\n",
              "          if (!dataTable) return;\n",
              "\n",
              "          const docLinkHtml = 'Like what you see? Visit the ' +\n",
              "            '<a target=\"_blank\" href=https://colab.research.google.com/notebooks/data_table.ipynb>data table notebook</a>'\n",
              "            + ' to learn more about interactive tables.';\n",
              "          element.innerHTML = '';\n",
              "          dataTable['output_type'] = 'display_data';\n",
              "          await google.colab.output.renderOutput(dataTable, element);\n",
              "          const docLink = document.createElement('div');\n",
              "          docLink.innerHTML = docLinkHtml;\n",
              "          element.appendChild(docLink);\n",
              "        }\n",
              "      </script>\n",
              "    </div>\n",
              "  </div>\n",
              "  "
            ],
            "text/plain": [
              "   age  sex   chest_pain_type  resting_blood_pressure  cholesterol  \\\n",
              "0   63    1      asymptomatic                     145        233.0   \n",
              "1   37    1  non-anginal pain                     130        250.0   \n",
              "2   41    0   atypical angina                     130        204.0   \n",
              "3   56    1   atypical angina                     120        236.0   \n",
              "4   57    0   typical anginia                     120        354.0   \n",
              "\n",
              "   fasting_blood_sugar  rest_ecg  max_heart_rate_achieved  \\\n",
              "0                    1         0                    150.0   \n",
              "1                    0         1                    187.0   \n",
              "2                    0         0                    172.0   \n",
              "3                    0         1                    178.0   \n",
              "4                    0         1                    163.0   \n",
              "\n",
              "   exercise_induced_angina  st_depression  st_slope  num_major_vessels  \\\n",
              "0                        0            2.3         0                  0   \n",
              "1                        0            3.5         0                  0   \n",
              "2                        0            1.4         2                  0   \n",
              "3                        0            0.8         2                  0   \n",
              "4                        1            0.6         2                  0   \n",
              "\n",
              "   thalassemia  target  \n",
              "0            1       1  \n",
              "1            2       1  \n",
              "2            2       1  \n",
              "3            2       1  \n",
              "4            2       1  "
            ]
          },
          "execution_count": 4,
          "metadata": {},
          "output_type": "execute_result"
        }
      ],
      "source": [
        "LINK = 'https://raw.githubusercontent.com/insaid2018/Domain_Case_Studies/master/Healthcare/Heart%20Disease%20Diagnosis/Data/heart_disease.csv'\n",
        "\n",
        "data = pd.read_csv(filepath_or_buffer = LINK, encoding = 'latin1')\n",
        "print(\"Data Shape: \", data.shape)\n",
        "data.head()"
      ]
    },
    {
      "cell_type": "code",
      "execution_count": null,
      "metadata": {
        "colab": {
          "base_uri": "https://localhost:8080/",
          "height": 382
        },
        "id": "nud6faWYpEQh",
        "outputId": "9ddcb938-d506-45e6-bfcd-57eade9b2c90"
      },
      "outputs": [
        {
          "name": "stdout",
          "output_type": "stream",
          "text": [
            "Described Column Length: 13\n"
          ]
        },
        {
          "data": {
            "text/html": [
              "\n",
              "  <div id=\"df-efcfed99-3d28-4cea-b6e0-559129513d85\">\n",
              "    <div class=\"colab-df-container\">\n",
              "      <div>\n",
              "<style scoped>\n",
              "    .dataframe tbody tr th:only-of-type {\n",
              "        vertical-align: middle;\n",
              "    }\n",
              "\n",
              "    .dataframe tbody tr th {\n",
              "        vertical-align: top;\n",
              "    }\n",
              "\n",
              "    .dataframe thead th {\n",
              "        text-align: right;\n",
              "    }\n",
              "</style>\n",
              "<table border=\"1\" class=\"dataframe\">\n",
              "  <thead>\n",
              "    <tr style=\"text-align: right;\">\n",
              "      <th></th>\n",
              "      <th>age</th>\n",
              "      <th>sex</th>\n",
              "      <th>resting_blood_pressure</th>\n",
              "      <th>cholesterol</th>\n",
              "      <th>fasting_blood_sugar</th>\n",
              "      <th>rest_ecg</th>\n",
              "      <th>max_heart_rate_achieved</th>\n",
              "      <th>exercise_induced_angina</th>\n",
              "      <th>st_depression</th>\n",
              "      <th>st_slope</th>\n",
              "      <th>num_major_vessels</th>\n",
              "      <th>thalassemia</th>\n",
              "      <th>target</th>\n",
              "    </tr>\n",
              "  </thead>\n",
              "  <tbody>\n",
              "    <tr>\n",
              "      <th>count</th>\n",
              "      <td>366.000000</td>\n",
              "      <td>366.000000</td>\n",
              "      <td>366.000000</td>\n",
              "      <td>348.000000</td>\n",
              "      <td>366.000000</td>\n",
              "      <td>366.000000</td>\n",
              "      <td>339.000000</td>\n",
              "      <td>366.000000</td>\n",
              "      <td>366.000000</td>\n",
              "      <td>366.000000</td>\n",
              "      <td>366.000000</td>\n",
              "      <td>366.000000</td>\n",
              "      <td>366.000000</td>\n",
              "    </tr>\n",
              "    <tr>\n",
              "      <th>mean</th>\n",
              "      <td>54.210383</td>\n",
              "      <td>0.680328</td>\n",
              "      <td>131.562842</td>\n",
              "      <td>247.568966</td>\n",
              "      <td>0.139344</td>\n",
              "      <td>0.508197</td>\n",
              "      <td>149.401180</td>\n",
              "      <td>0.330601</td>\n",
              "      <td>1.068306</td>\n",
              "      <td>1.393443</td>\n",
              "      <td>0.778689</td>\n",
              "      <td>2.349727</td>\n",
              "      <td>0.532787</td>\n",
              "    </tr>\n",
              "    <tr>\n",
              "      <th>std</th>\n",
              "      <td>9.043396</td>\n",
              "      <td>0.466988</td>\n",
              "      <td>16.987349</td>\n",
              "      <td>51.950856</td>\n",
              "      <td>0.346779</td>\n",
              "      <td>0.522049</td>\n",
              "      <td>21.964161</td>\n",
              "      <td>0.471074</td>\n",
              "      <td>1.203138</td>\n",
              "      <td>0.613421</td>\n",
              "      <td>1.066390</td>\n",
              "      <td>0.585756</td>\n",
              "      <td>0.499607</td>\n",
              "    </tr>\n",
              "    <tr>\n",
              "      <th>min</th>\n",
              "      <td>29.000000</td>\n",
              "      <td>0.000000</td>\n",
              "      <td>94.000000</td>\n",
              "      <td>126.000000</td>\n",
              "      <td>0.000000</td>\n",
              "      <td>0.000000</td>\n",
              "      <td>71.000000</td>\n",
              "      <td>0.000000</td>\n",
              "      <td>0.000000</td>\n",
              "      <td>0.000000</td>\n",
              "      <td>0.000000</td>\n",
              "      <td>1.000000</td>\n",
              "      <td>0.000000</td>\n",
              "    </tr>\n",
              "    <tr>\n",
              "      <th>25%</th>\n",
              "      <td>47.250000</td>\n",
              "      <td>0.000000</td>\n",
              "      <td>120.000000</td>\n",
              "      <td>212.000000</td>\n",
              "      <td>0.000000</td>\n",
              "      <td>0.000000</td>\n",
              "      <td>133.500000</td>\n",
              "      <td>0.000000</td>\n",
              "      <td>0.000000</td>\n",
              "      <td>1.000000</td>\n",
              "      <td>0.000000</td>\n",
              "      <td>2.000000</td>\n",
              "      <td>0.000000</td>\n",
              "    </tr>\n",
              "    <tr>\n",
              "      <th>50%</th>\n",
              "      <td>55.500000</td>\n",
              "      <td>1.000000</td>\n",
              "      <td>130.000000</td>\n",
              "      <td>243.000000</td>\n",
              "      <td>0.000000</td>\n",
              "      <td>0.000000</td>\n",
              "      <td>152.000000</td>\n",
              "      <td>0.000000</td>\n",
              "      <td>0.800000</td>\n",
              "      <td>1.000000</td>\n",
              "      <td>0.000000</td>\n",
              "      <td>2.000000</td>\n",
              "      <td>1.000000</td>\n",
              "    </tr>\n",
              "    <tr>\n",
              "      <th>75%</th>\n",
              "      <td>61.000000</td>\n",
              "      <td>1.000000</td>\n",
              "      <td>140.000000</td>\n",
              "      <td>275.500000</td>\n",
              "      <td>0.000000</td>\n",
              "      <td>1.000000</td>\n",
              "      <td>165.000000</td>\n",
              "      <td>1.000000</td>\n",
              "      <td>1.800000</td>\n",
              "      <td>2.000000</td>\n",
              "      <td>1.000000</td>\n",
              "      <td>3.000000</td>\n",
              "      <td>1.000000</td>\n",
              "    </tr>\n",
              "    <tr>\n",
              "      <th>max</th>\n",
              "      <td>77.000000</td>\n",
              "      <td>1.000000</td>\n",
              "      <td>200.000000</td>\n",
              "      <td>564.000000</td>\n",
              "      <td>1.000000</td>\n",
              "      <td>2.000000</td>\n",
              "      <td>202.000000</td>\n",
              "      <td>1.000000</td>\n",
              "      <td>6.200000</td>\n",
              "      <td>2.000000</td>\n",
              "      <td>4.000000</td>\n",
              "      <td>3.000000</td>\n",
              "      <td>1.000000</td>\n",
              "    </tr>\n",
              "  </tbody>\n",
              "</table>\n",
              "</div>\n",
              "      <button class=\"colab-df-convert\" onclick=\"convertToInteractive('df-efcfed99-3d28-4cea-b6e0-559129513d85')\"\n",
              "              title=\"Convert this dataframe to an interactive table.\"\n",
              "              style=\"display:none;\">\n",
              "        \n",
              "  <svg xmlns=\"http://www.w3.org/2000/svg\" height=\"24px\"viewBox=\"0 0 24 24\"\n",
              "       width=\"24px\">\n",
              "    <path d=\"M0 0h24v24H0V0z\" fill=\"none\"/>\n",
              "    <path d=\"M18.56 5.44l.94 2.06.94-2.06 2.06-.94-2.06-.94-.94-2.06-.94 2.06-2.06.94zm-11 1L8.5 8.5l.94-2.06 2.06-.94-2.06-.94L8.5 2.5l-.94 2.06-2.06.94zm10 10l.94 2.06.94-2.06 2.06-.94-2.06-.94-.94-2.06-.94 2.06-2.06.94z\"/><path d=\"M17.41 7.96l-1.37-1.37c-.4-.4-.92-.59-1.43-.59-.52 0-1.04.2-1.43.59L10.3 9.45l-7.72 7.72c-.78.78-.78 2.05 0 2.83L4 21.41c.39.39.9.59 1.41.59.51 0 1.02-.2 1.41-.59l7.78-7.78 2.81-2.81c.8-.78.8-2.07 0-2.86zM5.41 20L4 18.59l7.72-7.72 1.47 1.35L5.41 20z\"/>\n",
              "  </svg>\n",
              "      </button>\n",
              "      \n",
              "  <style>\n",
              "    .colab-df-container {\n",
              "      display:flex;\n",
              "      flex-wrap:wrap;\n",
              "      gap: 12px;\n",
              "    }\n",
              "\n",
              "    .colab-df-convert {\n",
              "      background-color: #E8F0FE;\n",
              "      border: none;\n",
              "      border-radius: 50%;\n",
              "      cursor: pointer;\n",
              "      display: none;\n",
              "      fill: #1967D2;\n",
              "      height: 32px;\n",
              "      padding: 0 0 0 0;\n",
              "      width: 32px;\n",
              "    }\n",
              "\n",
              "    .colab-df-convert:hover {\n",
              "      background-color: #E2EBFA;\n",
              "      box-shadow: 0px 1px 2px rgba(60, 64, 67, 0.3), 0px 1px 3px 1px rgba(60, 64, 67, 0.15);\n",
              "      fill: #174EA6;\n",
              "    }\n",
              "\n",
              "    [theme=dark] .colab-df-convert {\n",
              "      background-color: #3B4455;\n",
              "      fill: #D2E3FC;\n",
              "    }\n",
              "\n",
              "    [theme=dark] .colab-df-convert:hover {\n",
              "      background-color: #434B5C;\n",
              "      box-shadow: 0px 1px 3px 1px rgba(0, 0, 0, 0.15);\n",
              "      filter: drop-shadow(0px 1px 2px rgba(0, 0, 0, 0.3));\n",
              "      fill: #FFFFFF;\n",
              "    }\n",
              "  </style>\n",
              "\n",
              "      <script>\n",
              "        const buttonEl =\n",
              "          document.querySelector('#df-efcfed99-3d28-4cea-b6e0-559129513d85 button.colab-df-convert');\n",
              "        buttonEl.style.display =\n",
              "          google.colab.kernel.accessAllowed ? 'block' : 'none';\n",
              "\n",
              "        async function convertToInteractive(key) {\n",
              "          const element = document.querySelector('#df-efcfed99-3d28-4cea-b6e0-559129513d85');\n",
              "          const dataTable =\n",
              "            await google.colab.kernel.invokeFunction('convertToInteractive',\n",
              "                                                     [key], {});\n",
              "          if (!dataTable) return;\n",
              "\n",
              "          const docLinkHtml = 'Like what you see? Visit the ' +\n",
              "            '<a target=\"_blank\" href=https://colab.research.google.com/notebooks/data_table.ipynb>data table notebook</a>'\n",
              "            + ' to learn more about interactive tables.';\n",
              "          element.innerHTML = '';\n",
              "          dataTable['output_type'] = 'display_data';\n",
              "          await google.colab.output.renderOutput(dataTable, element);\n",
              "          const docLink = document.createElement('div');\n",
              "          docLink.innerHTML = docLinkHtml;\n",
              "          element.appendChild(docLink);\n",
              "        }\n",
              "      </script>\n",
              "    </div>\n",
              "  </div>\n",
              "  "
            ],
            "text/plain": [
              "              age         sex  resting_blood_pressure  cholesterol  \\\n",
              "count  366.000000  366.000000              366.000000   348.000000   \n",
              "mean    54.210383    0.680328              131.562842   247.568966   \n",
              "std      9.043396    0.466988               16.987349    51.950856   \n",
              "min     29.000000    0.000000               94.000000   126.000000   \n",
              "25%     47.250000    0.000000              120.000000   212.000000   \n",
              "50%     55.500000    1.000000              130.000000   243.000000   \n",
              "75%     61.000000    1.000000              140.000000   275.500000   \n",
              "max     77.000000    1.000000              200.000000   564.000000   \n",
              "\n",
              "       fasting_blood_sugar    rest_ecg  max_heart_rate_achieved  \\\n",
              "count           366.000000  366.000000               339.000000   \n",
              "mean              0.139344    0.508197               149.401180   \n",
              "std               0.346779    0.522049                21.964161   \n",
              "min               0.000000    0.000000                71.000000   \n",
              "25%               0.000000    0.000000               133.500000   \n",
              "50%               0.000000    0.000000               152.000000   \n",
              "75%               0.000000    1.000000               165.000000   \n",
              "max               1.000000    2.000000               202.000000   \n",
              "\n",
              "       exercise_induced_angina  st_depression    st_slope  num_major_vessels  \\\n",
              "count               366.000000     366.000000  366.000000         366.000000   \n",
              "mean                  0.330601       1.068306    1.393443           0.778689   \n",
              "std                   0.471074       1.203138    0.613421           1.066390   \n",
              "min                   0.000000       0.000000    0.000000           0.000000   \n",
              "25%                   0.000000       0.000000    1.000000           0.000000   \n",
              "50%                   0.000000       0.800000    1.000000           0.000000   \n",
              "75%                   1.000000       1.800000    2.000000           1.000000   \n",
              "max                   1.000000       6.200000    2.000000           4.000000   \n",
              "\n",
              "       thalassemia      target  \n",
              "count   366.000000  366.000000  \n",
              "mean      2.349727    0.532787  \n",
              "std       0.585756    0.499607  \n",
              "min       1.000000    0.000000  \n",
              "25%       2.000000    0.000000  \n",
              "50%       2.000000    1.000000  \n",
              "75%       3.000000    1.000000  \n",
              "max       3.000000    1.000000  "
            ]
          },
          "execution_count": 5,
          "metadata": {},
          "output_type": "execute_result"
        }
      ],
      "source": [
        "# Data Description - In this section we will get information about the data and see some observations.\n",
        "\n",
        "print('Described Column Length:', len(data.describe().columns))\n",
        "data.describe()"
      ]
    },
    {
      "cell_type": "markdown",
      "metadata": {
        "id": "y2TFvS1Ppi9m"
      },
      "source": [
        "Observations:\n",
        "1) On Average there are patients of age 54.\n",
        "2) 25% of patients have age <= to 47 while 50% and 75% of patients have age <= to 55 and 61 respectively.\n",
        "3) On average patients have resting blood pressure of 131.56 mmHg.\n",
        "4) 25% of patients having resting blood pressure <= 120 mmHg while 50% and 75% of patients have resting blood pressure of <= 130 mmHg and <= 140 mmHg respectively.\n",
        "5) On average patients have cholestrol of 247.56 mg/dl.\n",
        "6) 25% of patients have cholestrol <= 212 mg/dl while 50% and 75% of patients have cholestrol <= 243 mg/dl and <= 275 mg/df respectively.\n",
        "7) On average patients have max heart rate achieved at 149.4.\n",
        "8) 25% of patients have max heart rate achieved <= 133.5 bpm while 50% and 75% of patients have max heart rate achieved <= 152 bpm nd <= 165 bpm respectively.\n",
        "9) On average patients have ST depression of unit value.\n",
        "10) 25% of patients have no ST depression while 50% and 75% of patients have ST depression <= 0.8 and <= 1.8 respectively."
      ]
    },
    {
      "cell_type": "code",
      "execution_count": null,
      "metadata": {
        "colab": {
          "base_uri": "https://localhost:8080/"
        },
        "id": "TUSdA6OKrNZk",
        "outputId": "e4e53d91-1d26-4569-b265-670494ebf1a6"
      },
      "outputs": [
        {
          "name": "stdout",
          "output_type": "stream",
          "text": [
            "<class 'pandas.core.frame.DataFrame'>\n",
            "RangeIndex: 366 entries, 0 to 365\n",
            "Data columns (total 14 columns):\n",
            " #   Column                   Non-Null Count  Dtype  \n",
            "---  ------                   --------------  -----  \n",
            " 0   age                      366 non-null    int64  \n",
            " 1   sex                      366 non-null    int64  \n",
            " 2   chest_pain_type          366 non-null    object \n",
            " 3   resting_blood_pressure   366 non-null    int64  \n",
            " 4   cholesterol              348 non-null    float64\n",
            " 5   fasting_blood_sugar      366 non-null    int64  \n",
            " 6   rest_ecg                 366 non-null    int64  \n",
            " 7   max_heart_rate_achieved  339 non-null    float64\n",
            " 8   exercise_induced_angina  366 non-null    int64  \n",
            " 9   st_depression            366 non-null    float64\n",
            " 10  st_slope                 366 non-null    int64  \n",
            " 11  num_major_vessels        366 non-null    int64  \n",
            " 12  thalassemia              366 non-null    int64  \n",
            " 13  target                   366 non-null    int64  \n",
            "dtypes: float64(3), int64(10), object(1)\n",
            "memory usage: 40.2+ KB\n"
          ]
        }
      ],
      "source": [
        "data.info()"
      ]
    },
    {
      "cell_type": "markdown",
      "metadata": {
        "id": "bcGHIdW_rQjD"
      },
      "source": [
        "Observation:\n",
        "1) we can see that features like cholestrol, max_heart_rate_achieved contains missing values.\n",
        "2) There are 14 features out of which 3 are float, 10 are integer and 1 is of object type.\n",
        "\n"
      ]
    },
    {
      "cell_type": "markdown",
      "metadata": {
        "id": "BZcewcy9rp-J"
      },
      "source": [
        "## Data Pre-Processing.\n",
        "\n",
        "Identification & Handling of Missing Data.\n",
        "Null Data Identification & Handling.\n",
        "\n",
        "Before handling Null Data."
      ]
    },
    {
      "cell_type": "code",
      "execution_count": null,
      "metadata": {
        "colab": {
          "base_uri": "https://localhost:8080/",
          "height": 211
        },
        "id": "RXOtZXJ5r5a0",
        "outputId": "eabb2bd4-28e0-4886-9256-0610882077f2"
      },
      "outputs": [
        {
          "data": {
            "text/html": [
              "\n",
              "  <div id=\"df-56391c5e-0537-40e9-a0e0-92cd06542840\">\n",
              "    <div class=\"colab-df-container\">\n",
              "      <div>\n",
              "<style scoped>\n",
              "    .dataframe tbody tr th:only-of-type {\n",
              "        vertical-align: middle;\n",
              "    }\n",
              "\n",
              "    .dataframe tbody tr th {\n",
              "        vertical-align: top;\n",
              "    }\n",
              "\n",
              "    .dataframe thead th {\n",
              "        text-align: right;\n",
              "    }\n",
              "</style>\n",
              "<table border=\"1\" class=\"dataframe\">\n",
              "  <thead>\n",
              "    <tr style=\"text-align: right;\">\n",
              "      <th></th>\n",
              "      <th>age</th>\n",
              "      <th>sex</th>\n",
              "      <th>chest_pain_type</th>\n",
              "      <th>resting_blood_pressure</th>\n",
              "      <th>cholesterol</th>\n",
              "      <th>fasting_blood_sugar</th>\n",
              "      <th>rest_ecg</th>\n",
              "      <th>max_heart_rate_achieved</th>\n",
              "      <th>exercise_induced_angina</th>\n",
              "      <th>st_depression</th>\n",
              "      <th>st_slope</th>\n",
              "      <th>num_major_vessels</th>\n",
              "      <th>thalassemia</th>\n",
              "      <th>target</th>\n",
              "    </tr>\n",
              "  </thead>\n",
              "  <tbody>\n",
              "    <tr>\n",
              "      <th>Null Frequency</th>\n",
              "      <td>0.0</td>\n",
              "      <td>0.0</td>\n",
              "      <td>0.0</td>\n",
              "      <td>0.0</td>\n",
              "      <td>18.00</td>\n",
              "      <td>0.0</td>\n",
              "      <td>0.0</td>\n",
              "      <td>27.00</td>\n",
              "      <td>0.0</td>\n",
              "      <td>0.0</td>\n",
              "      <td>0.0</td>\n",
              "      <td>0.0</td>\n",
              "      <td>0.0</td>\n",
              "      <td>0.0</td>\n",
              "    </tr>\n",
              "    <tr>\n",
              "      <th>Missing %age</th>\n",
              "      <td>0.0</td>\n",
              "      <td>0.0</td>\n",
              "      <td>0.0</td>\n",
              "      <td>0.0</td>\n",
              "      <td>4.92</td>\n",
              "      <td>0.0</td>\n",
              "      <td>0.0</td>\n",
              "      <td>7.38</td>\n",
              "      <td>0.0</td>\n",
              "      <td>0.0</td>\n",
              "      <td>0.0</td>\n",
              "      <td>0.0</td>\n",
              "      <td>0.0</td>\n",
              "      <td>0.0</td>\n",
              "    </tr>\n",
              "  </tbody>\n",
              "</table>\n",
              "</div>\n",
              "      <button class=\"colab-df-convert\" onclick=\"convertToInteractive('df-56391c5e-0537-40e9-a0e0-92cd06542840')\"\n",
              "              title=\"Convert this dataframe to an interactive table.\"\n",
              "              style=\"display:none;\">\n",
              "        \n",
              "  <svg xmlns=\"http://www.w3.org/2000/svg\" height=\"24px\"viewBox=\"0 0 24 24\"\n",
              "       width=\"24px\">\n",
              "    <path d=\"M0 0h24v24H0V0z\" fill=\"none\"/>\n",
              "    <path d=\"M18.56 5.44l.94 2.06.94-2.06 2.06-.94-2.06-.94-.94-2.06-.94 2.06-2.06.94zm-11 1L8.5 8.5l.94-2.06 2.06-.94-2.06-.94L8.5 2.5l-.94 2.06-2.06.94zm10 10l.94 2.06.94-2.06 2.06-.94-2.06-.94-.94-2.06-.94 2.06-2.06.94z\"/><path d=\"M17.41 7.96l-1.37-1.37c-.4-.4-.92-.59-1.43-.59-.52 0-1.04.2-1.43.59L10.3 9.45l-7.72 7.72c-.78.78-.78 2.05 0 2.83L4 21.41c.39.39.9.59 1.41.59.51 0 1.02-.2 1.41-.59l7.78-7.78 2.81-2.81c.8-.78.8-2.07 0-2.86zM5.41 20L4 18.59l7.72-7.72 1.47 1.35L5.41 20z\"/>\n",
              "  </svg>\n",
              "      </button>\n",
              "      \n",
              "  <style>\n",
              "    .colab-df-container {\n",
              "      display:flex;\n",
              "      flex-wrap:wrap;\n",
              "      gap: 12px;\n",
              "    }\n",
              "\n",
              "    .colab-df-convert {\n",
              "      background-color: #E8F0FE;\n",
              "      border: none;\n",
              "      border-radius: 50%;\n",
              "      cursor: pointer;\n",
              "      display: none;\n",
              "      fill: #1967D2;\n",
              "      height: 32px;\n",
              "      padding: 0 0 0 0;\n",
              "      width: 32px;\n",
              "    }\n",
              "\n",
              "    .colab-df-convert:hover {\n",
              "      background-color: #E2EBFA;\n",
              "      box-shadow: 0px 1px 2px rgba(60, 64, 67, 0.3), 0px 1px 3px 1px rgba(60, 64, 67, 0.15);\n",
              "      fill: #174EA6;\n",
              "    }\n",
              "\n",
              "    [theme=dark] .colab-df-convert {\n",
              "      background-color: #3B4455;\n",
              "      fill: #D2E3FC;\n",
              "    }\n",
              "\n",
              "    [theme=dark] .colab-df-convert:hover {\n",
              "      background-color: #434B5C;\n",
              "      box-shadow: 0px 1px 3px 1px rgba(0, 0, 0, 0.15);\n",
              "      filter: drop-shadow(0px 1px 2px rgba(0, 0, 0, 0.3));\n",
              "      fill: #FFFFFF;\n",
              "    }\n",
              "  </style>\n",
              "\n",
              "      <script>\n",
              "        const buttonEl =\n",
              "          document.querySelector('#df-56391c5e-0537-40e9-a0e0-92cd06542840 button.colab-df-convert');\n",
              "        buttonEl.style.display =\n",
              "          google.colab.kernel.accessAllowed ? 'block' : 'none';\n",
              "\n",
              "        async function convertToInteractive(key) {\n",
              "          const element = document.querySelector('#df-56391c5e-0537-40e9-a0e0-92cd06542840');\n",
              "          const dataTable =\n",
              "            await google.colab.kernel.invokeFunction('convertToInteractive',\n",
              "                                                     [key], {});\n",
              "          if (!dataTable) return;\n",
              "\n",
              "          const docLinkHtml = 'Like what you see? Visit the ' +\n",
              "            '<a target=\"_blank\" href=https://colab.research.google.com/notebooks/data_table.ipynb>data table notebook</a>'\n",
              "            + ' to learn more about interactive tables.';\n",
              "          element.innerHTML = '';\n",
              "          dataTable['output_type'] = 'display_data';\n",
              "          await google.colab.output.renderOutput(dataTable, element);\n",
              "          const docLink = document.createElement('div');\n",
              "          docLink.innerHTML = docLinkHtml;\n",
              "          element.appendChild(docLink);\n",
              "        }\n",
              "      </script>\n",
              "    </div>\n",
              "  </div>\n",
              "  "
            ],
            "text/plain": [
              "                age  sex  chest_pain_type  resting_blood_pressure  \\\n",
              "Null Frequency  0.0  0.0              0.0                     0.0   \n",
              "Missing %age    0.0  0.0              0.0                     0.0   \n",
              "\n",
              "                cholesterol  fasting_blood_sugar  rest_ecg  \\\n",
              "Null Frequency        18.00                  0.0       0.0   \n",
              "Missing %age           4.92                  0.0       0.0   \n",
              "\n",
              "                max_heart_rate_achieved  exercise_induced_angina  \\\n",
              "Null Frequency                    27.00                      0.0   \n",
              "Missing %age                       7.38                      0.0   \n",
              "\n",
              "                st_depression  st_slope  num_major_vessels  thalassemia  \\\n",
              "Null Frequency            0.0       0.0                0.0          0.0   \n",
              "Missing %age              0.0       0.0                0.0          0.0   \n",
              "\n",
              "                target  \n",
              "Null Frequency     0.0  \n",
              "Missing %age       0.0  "
            ]
          },
          "execution_count": 7,
          "metadata": {},
          "output_type": "execute_result"
        }
      ],
      "source": [
        "null_frame = pd.DataFrame(index = data.columns.values)\n",
        "null_frame['Null Frequency'] = data.isnull().sum().values\n",
        "percent = data.isnull().sum().values/data.shape[0]\n",
        "null_frame['Missing %age'] = np.round(percent, decimals=4) * 100\n",
        "null_frame.transpose()"
      ]
    },
    {
      "cell_type": "markdown",
      "metadata": {
        "id": "2JsMaboQsa5k"
      },
      "source": [
        "Observation:\n",
        "1) Feature\n",
        "  a) Problem -> Action Required.\n",
        "2) Cholestrol\n",
        "  b) Missing Information(18) -> Replace with Median Value.\n",
        "3) max_heart_rate_achieved\n",
        "  c) Missing Information(27) -> Replace with Median Value."
      ]
    },
    {
      "cell_type": "code",
      "execution_count": null,
      "metadata": {
        "id": "tsI1OV9Gs3Mb"
      },
      "outputs": [],
      "source": [
        "# Performing Operations\n",
        "data['cholesterol'] = data['cholesterol'].replace(np.nan, data['cholesterol'].median())\n",
        "data['max_heart_rate_achieved'] = data['max_heart_rate_achieved'].replace(np.nan, data['max_heart_rate_achieved'].median())"
      ]
    },
    {
      "cell_type": "code",
      "execution_count": null,
      "metadata": {
        "colab": {
          "base_uri": "https://localhost:8080/",
          "height": 211
        },
        "id": "Ol-FvkOmtZbs",
        "outputId": "4a40c22d-d886-4dea-fc55-362ccf588eca"
      },
      "outputs": [
        {
          "data": {
            "text/html": [
              "\n",
              "  <div id=\"df-d7440d8e-42c6-43ba-812a-1ee2c9de2490\">\n",
              "    <div class=\"colab-df-container\">\n",
              "      <div>\n",
              "<style scoped>\n",
              "    .dataframe tbody tr th:only-of-type {\n",
              "        vertical-align: middle;\n",
              "    }\n",
              "\n",
              "    .dataframe tbody tr th {\n",
              "        vertical-align: top;\n",
              "    }\n",
              "\n",
              "    .dataframe thead th {\n",
              "        text-align: right;\n",
              "    }\n",
              "</style>\n",
              "<table border=\"1\" class=\"dataframe\">\n",
              "  <thead>\n",
              "    <tr style=\"text-align: right;\">\n",
              "      <th></th>\n",
              "      <th>age</th>\n",
              "      <th>sex</th>\n",
              "      <th>chest_pain_type</th>\n",
              "      <th>resting_blood_pressure</th>\n",
              "      <th>cholesterol</th>\n",
              "      <th>fasting_blood_sugar</th>\n",
              "      <th>rest_ecg</th>\n",
              "      <th>max_heart_rate_achieved</th>\n",
              "      <th>exercise_induced_angina</th>\n",
              "      <th>st_depression</th>\n",
              "      <th>st_slope</th>\n",
              "      <th>num_major_vessels</th>\n",
              "      <th>thalassemia</th>\n",
              "      <th>target</th>\n",
              "    </tr>\n",
              "  </thead>\n",
              "  <tbody>\n",
              "    <tr>\n",
              "      <th>Null Frequecny</th>\n",
              "      <td>0.0</td>\n",
              "      <td>0.0</td>\n",
              "      <td>0.0</td>\n",
              "      <td>0.0</td>\n",
              "      <td>0.0</td>\n",
              "      <td>0.0</td>\n",
              "      <td>0.0</td>\n",
              "      <td>0.0</td>\n",
              "      <td>0.0</td>\n",
              "      <td>0.0</td>\n",
              "      <td>0.0</td>\n",
              "      <td>0.0</td>\n",
              "      <td>0.0</td>\n",
              "      <td>0.0</td>\n",
              "    </tr>\n",
              "    <tr>\n",
              "      <th>Missing %age</th>\n",
              "      <td>0.0</td>\n",
              "      <td>0.0</td>\n",
              "      <td>0.0</td>\n",
              "      <td>0.0</td>\n",
              "      <td>0.0</td>\n",
              "      <td>0.0</td>\n",
              "      <td>0.0</td>\n",
              "      <td>0.0</td>\n",
              "      <td>0.0</td>\n",
              "      <td>0.0</td>\n",
              "      <td>0.0</td>\n",
              "      <td>0.0</td>\n",
              "      <td>0.0</td>\n",
              "      <td>0.0</td>\n",
              "    </tr>\n",
              "  </tbody>\n",
              "</table>\n",
              "</div>\n",
              "      <button class=\"colab-df-convert\" onclick=\"convertToInteractive('df-d7440d8e-42c6-43ba-812a-1ee2c9de2490')\"\n",
              "              title=\"Convert this dataframe to an interactive table.\"\n",
              "              style=\"display:none;\">\n",
              "        \n",
              "  <svg xmlns=\"http://www.w3.org/2000/svg\" height=\"24px\"viewBox=\"0 0 24 24\"\n",
              "       width=\"24px\">\n",
              "    <path d=\"M0 0h24v24H0V0z\" fill=\"none\"/>\n",
              "    <path d=\"M18.56 5.44l.94 2.06.94-2.06 2.06-.94-2.06-.94-.94-2.06-.94 2.06-2.06.94zm-11 1L8.5 8.5l.94-2.06 2.06-.94-2.06-.94L8.5 2.5l-.94 2.06-2.06.94zm10 10l.94 2.06.94-2.06 2.06-.94-2.06-.94-.94-2.06-.94 2.06-2.06.94z\"/><path d=\"M17.41 7.96l-1.37-1.37c-.4-.4-.92-.59-1.43-.59-.52 0-1.04.2-1.43.59L10.3 9.45l-7.72 7.72c-.78.78-.78 2.05 0 2.83L4 21.41c.39.39.9.59 1.41.59.51 0 1.02-.2 1.41-.59l7.78-7.78 2.81-2.81c.8-.78.8-2.07 0-2.86zM5.41 20L4 18.59l7.72-7.72 1.47 1.35L5.41 20z\"/>\n",
              "  </svg>\n",
              "      </button>\n",
              "      \n",
              "  <style>\n",
              "    .colab-df-container {\n",
              "      display:flex;\n",
              "      flex-wrap:wrap;\n",
              "      gap: 12px;\n",
              "    }\n",
              "\n",
              "    .colab-df-convert {\n",
              "      background-color: #E8F0FE;\n",
              "      border: none;\n",
              "      border-radius: 50%;\n",
              "      cursor: pointer;\n",
              "      display: none;\n",
              "      fill: #1967D2;\n",
              "      height: 32px;\n",
              "      padding: 0 0 0 0;\n",
              "      width: 32px;\n",
              "    }\n",
              "\n",
              "    .colab-df-convert:hover {\n",
              "      background-color: #E2EBFA;\n",
              "      box-shadow: 0px 1px 2px rgba(60, 64, 67, 0.3), 0px 1px 3px 1px rgba(60, 64, 67, 0.15);\n",
              "      fill: #174EA6;\n",
              "    }\n",
              "\n",
              "    [theme=dark] .colab-df-convert {\n",
              "      background-color: #3B4455;\n",
              "      fill: #D2E3FC;\n",
              "    }\n",
              "\n",
              "    [theme=dark] .colab-df-convert:hover {\n",
              "      background-color: #434B5C;\n",
              "      box-shadow: 0px 1px 3px 1px rgba(0, 0, 0, 0.15);\n",
              "      filter: drop-shadow(0px 1px 2px rgba(0, 0, 0, 0.3));\n",
              "      fill: #FFFFFF;\n",
              "    }\n",
              "  </style>\n",
              "\n",
              "      <script>\n",
              "        const buttonEl =\n",
              "          document.querySelector('#df-d7440d8e-42c6-43ba-812a-1ee2c9de2490 button.colab-df-convert');\n",
              "        buttonEl.style.display =\n",
              "          google.colab.kernel.accessAllowed ? 'block' : 'none';\n",
              "\n",
              "        async function convertToInteractive(key) {\n",
              "          const element = document.querySelector('#df-d7440d8e-42c6-43ba-812a-1ee2c9de2490');\n",
              "          const dataTable =\n",
              "            await google.colab.kernel.invokeFunction('convertToInteractive',\n",
              "                                                     [key], {});\n",
              "          if (!dataTable) return;\n",
              "\n",
              "          const docLinkHtml = 'Like what you see? Visit the ' +\n",
              "            '<a target=\"_blank\" href=https://colab.research.google.com/notebooks/data_table.ipynb>data table notebook</a>'\n",
              "            + ' to learn more about interactive tables.';\n",
              "          element.innerHTML = '';\n",
              "          dataTable['output_type'] = 'display_data';\n",
              "          await google.colab.output.renderOutput(dataTable, element);\n",
              "          const docLink = document.createElement('div');\n",
              "          docLink.innerHTML = docLinkHtml;\n",
              "          element.appendChild(docLink);\n",
              "        }\n",
              "      </script>\n",
              "    </div>\n",
              "  </div>\n",
              "  "
            ],
            "text/plain": [
              "                age  sex  chest_pain_type  resting_blood_pressure  \\\n",
              "Null Frequecny  0.0  0.0              0.0                     0.0   \n",
              "Missing %age    0.0  0.0              0.0                     0.0   \n",
              "\n",
              "                cholesterol  fasting_blood_sugar  rest_ecg  \\\n",
              "Null Frequecny          0.0                  0.0       0.0   \n",
              "Missing %age            0.0                  0.0       0.0   \n",
              "\n",
              "                max_heart_rate_achieved  exercise_induced_angina  \\\n",
              "Null Frequecny                      0.0                      0.0   \n",
              "Missing %age                        0.0                      0.0   \n",
              "\n",
              "                st_depression  st_slope  num_major_vessels  thalassemia  \\\n",
              "Null Frequecny            0.0       0.0                0.0          0.0   \n",
              "Missing %age              0.0       0.0                0.0          0.0   \n",
              "\n",
              "                target  \n",
              "Null Frequecny     0.0  \n",
              "Missing %age       0.0  "
            ]
          },
          "execution_count": 9,
          "metadata": {},
          "output_type": "execute_result"
        }
      ],
      "source": [
        "# After handling Null Data\n",
        "null_frame = pd.DataFrame(index = data.columns.values)\n",
        "null_frame['Null Frequecny'] = data.isnull().sum().values\n",
        "percent = data.isnull().sum().values/data.shape[0]\n",
        "null_frame['Missing %age'] = np.round(percent, decimals = 4) * 100\n",
        "null_frame.transpose()"
      ]
    },
    {
      "cell_type": "markdown",
      "metadata": {
        "id": "M7NUyULQt4I2"
      },
      "source": [
        "Observation - We can see that we have rid of all null values successfully."
      ]
    },
    {
      "cell_type": "code",
      "execution_count": null,
      "metadata": {
        "colab": {
          "base_uri": "https://localhost:8080/"
        },
        "id": "ZSEhUiJK7u6b",
        "outputId": "792a9659-db10-4198-fbd8-7705c1496b8e"
      },
      "outputs": [
        {
          "name": "stdout",
          "output_type": "stream",
          "text": [
            "Contains Redundant Records?: True\n",
            "Duplicate Count: 41\n"
          ]
        }
      ],
      "source": [
        "# Identification & Handling of Redundant Rows\n",
        "# Before Handling Duplicate Rows\n",
        "print('Contains Redundant Records?:', data.duplicated().any())\n",
        "print('Duplicate Count:', data.duplicated().sum())"
      ]
    },
    {
      "cell_type": "markdown",
      "metadata": {
        "id": "Qcc3yGBk8H3l"
      },
      "source": [
        "Observation - We can see that there are redundant records present in the data."
      ]
    },
    {
      "cell_type": "code",
      "execution_count": null,
      "metadata": {
        "colab": {
          "base_uri": "https://localhost:8080/"
        },
        "id": "V8ZKjlnL8O4B",
        "outputId": "172107d9-3126-4be4-d4b1-b1c4280e94d0"
      },
      "outputs": [
        {
          "name": "stdout",
          "output_type": "stream",
          "text": [
            "Data Shape [Before]: (366, 14)\n",
            "Data Shape [After]: (325, 14)\n",
            "Drop Ratio: 11.0 %\n"
          ]
        }
      ],
      "source": [
        "# Performing Operations\n",
        "before_shape = data.shape\n",
        "print('Data Shape [Before]:', before_shape)\n",
        "\n",
        "data.drop_duplicates(inplace = True)\n",
        "\n",
        "after_shape = data.shape\n",
        "print('Data Shape [After]:', after_shape)\n",
        "\n",
        "drop_nums = before_shape[0] - after_shape[0]\n",
        "drop_percent = np.round(drop_nums / before_shape[0], decimals=2) * 100\n",
        "\n",
        "print('Drop Ratio:', drop_percent, '%')"
      ]
    },
    {
      "cell_type": "code",
      "execution_count": null,
      "metadata": {
        "colab": {
          "base_uri": "https://localhost:8080/"
        },
        "id": "YU4ZepdF9L0L",
        "outputId": "7c49247b-12d6-40c3-8562-b5c58f639d45"
      },
      "outputs": [
        {
          "name": "stdout",
          "output_type": "stream",
          "text": [
            "Contains Redundant Records?: False\n",
            "Duplicate Count: 0\n"
          ]
        }
      ],
      "source": [
        "# After Handling Duplicate Rows\n",
        "print('Contains Redundant Records?:', data.duplicated().any())\n",
        "print('Duplicate Count:', data.duplicated().sum())"
      ]
    },
    {
      "cell_type": "markdown",
      "metadata": {
        "id": "02BUQuPE9jJy"
      },
      "source": [
        "Observations: We have successfully dropped redundant records."
      ]
    },
    {
      "cell_type": "code",
      "execution_count": null,
      "metadata": {
        "id": "vdmeZ2lE9gvI"
      },
      "outputs": [],
      "source": [
        "# Identification & Handling of Redundant Features\n",
        "# For handling duplicate features we have created a custom function to identify duplicacy in features with differnet name but similar values.\n",
        "\n",
        "def duplicate_cols(dataframe):\n",
        "  ls1 = []\n",
        "  ls2 = []\n",
        "\n",
        "  columns = dataframe.columns.values\n",
        "  for i in range(0, len(columns)):\n",
        "    for j in range(i+1, len(columns)):\n",
        "      if (np.where(dataframe[columns[i]] == dataframe[columns[j]], True, False).all() == True):\n",
        "        ls1.append(columns[i])\n",
        "        ls2.append(columns[j])\n",
        "\n",
        "  if ((len(ls1) == 0) & (len(ls2) == 0)):\n",
        "    return None\n",
        "  else:\n",
        "    duplicate_frame = pd.DataFrame()\n",
        "    duplicate_frame['Feature 1'] = ls1\n",
        "    duplicate_frame['Feature 2'] = ls2\n",
        "    return duplicate_frame"
      ]
    },
    {
      "cell_type": "code",
      "execution_count": null,
      "metadata": {
        "colab": {
          "base_uri": "https://localhost:8080/"
        },
        "id": "h-GFRCUn_E5z",
        "outputId": "73eb084f-317d-43d4-cd04-d06c409e8f4b"
      },
      "outputs": [
        {
          "name": "stdout",
          "output_type": "stream",
          "text": [
            "None\n"
          ]
        }
      ],
      "source": [
        "print(duplicate_cols(data))"
      ]
    },
    {
      "cell_type": "markdown",
      "metadata": {
        "id": "xxxG2VsW_hS7"
      },
      "source": [
        "Observation: It turns out that there aren't any duplicate columns in features."
      ]
    },
    {
      "cell_type": "code",
      "execution_count": null,
      "metadata": {
        "colab": {
          "base_uri": "https://localhost:8080/"
        },
        "id": "gz-mQofH_n8I",
        "outputId": "b27a2510-6aba-4f0d-b972-213d7f7896b2"
      },
      "outputs": [
        {
          "name": "stdout",
          "output_type": "stream",
          "text": [
            "<class 'pandas.core.frame.DataFrame'>\n",
            "Int64Index: 325 entries, 0 to 363\n",
            "Data columns (total 14 columns):\n",
            " #   Column                   Non-Null Count  Dtype  \n",
            "---  ------                   --------------  -----  \n",
            " 0   age                      325 non-null    int64  \n",
            " 1   sex                      325 non-null    int64  \n",
            " 2   chest_pain_type          325 non-null    object \n",
            " 3   resting_blood_pressure   325 non-null    int64  \n",
            " 4   cholesterol              325 non-null    float64\n",
            " 5   fasting_blood_sugar      325 non-null    int64  \n",
            " 6   rest_ecg                 325 non-null    int64  \n",
            " 7   max_heart_rate_achieved  325 non-null    float64\n",
            " 8   exercise_induced_angina  325 non-null    int64  \n",
            " 9   st_depression            325 non-null    float64\n",
            " 10  st_slope                 325 non-null    int64  \n",
            " 11  num_major_vessels        325 non-null    int64  \n",
            " 12  thalassemia              325 non-null    int64  \n",
            " 13  target                   325 non-null    int64  \n",
            "dtypes: float64(3), int64(10), object(1)\n",
            "memory usage: 38.1+ KB\n"
          ]
        }
      ],
      "source": [
        "# Identification & Handling of Inconsistent Data types\n",
        "data.info()"
      ]
    },
    {
      "cell_type": "markdown",
      "metadata": {
        "id": "ZEklSIxk_yF7"
      },
      "source": [
        "Observation: There is no need to change the type of data types as features have been pre-labelled with encoding."
      ]
    },
    {
      "cell_type": "markdown",
      "metadata": {
        "id": "HKwWi8Ad_7Br"
      },
      "source": [
        "# Handling Typos.\n",
        "1) In this section we will correct the value of labels which were incorrectly typed during data recording.\n",
        "2) As we have only one categorical feature left with labels, we will observe if the values contains any typos."
      ]
    },
    {
      "cell_type": "code",
      "execution_count": null,
      "metadata": {
        "colab": {
          "base_uri": "https://localhost:8080/"
        },
        "id": "l_pk5b5pASvc",
        "outputId": "9f14b820-4efc-4be7-a0be-46f32ee4d79b"
      },
      "outputs": [
        {
          "data": {
            "text/plain": [
              "array(['asymptomatic', 'non-anginal pain', 'atypical angina',\n",
              "       'typical anginia', 'typical angina'], dtype=object)"
            ]
          },
          "execution_count": 16,
          "metadata": {},
          "output_type": "execute_result"
        }
      ],
      "source": [
        "data['chest_pain_type'].unique()"
      ]
    },
    {
      "cell_type": "markdown",
      "metadata": {
        "id": "LOBXOdgvAaf7"
      },
      "source": [
        "Observation: We can see that label typical angina was incorrectly typed as typical anginia."
      ]
    },
    {
      "cell_type": "code",
      "execution_count": null,
      "metadata": {
        "id": "NYMcTaEMAoKk"
      },
      "outputs": [],
      "source": [
        "# Performing Correction - Before we will be replacing the given pattern i.e typical anginia with the replacement value i.e typical angina.\n",
        "data['chest_pain_type'] = data['chest_pain_type'].str.replace(pat = 'typical anginia', repl = 'typical angina')"
      ]
    },
    {
      "cell_type": "markdown",
      "metadata": {
        "id": "LuKUq72lBCau"
      },
      "source": [
        "Observation: We have successfully handled typo in our data."
      ]
    },
    {
      "cell_type": "code",
      "execution_count": null,
      "metadata": {
        "colab": {
          "base_uri": "https://localhost:8080/",
          "height": 468
        },
        "id": "tuXuDv4cBIcH",
        "outputId": "648f4daf-db2b-46bb-a14b-26e92f059130"
      },
      "outputs": [
        {
          "data": {
            "image/png": "[encoded data removed]",
            "text/plain": [
              "<Figure size 983.52x552.96 with 2 Axes>"
            ]
          },
          "metadata": {},
          "output_type": "display_data"
        }
      ],
      "source": [
        "# Exploratory Data Analysis\n",
        "# Question 1: What is the proportion of males and females having heart disease or not?\n",
        "\n",
        "males_data = data[data['sex'] == 1]\n",
        "females_data = data[data['sex'] == 0]\n",
        "\n",
        "figure = plt.figure(figsize = [12,10])\n",
        "plt.subplot(1,2,1)\n",
        "space = np.ones(2)/10\n",
        "males_data['target'].value_counts().plot(kind= 'pie', explode= space, fontsize=14, autopct= '%3.1f%%', wedgeprops = dict(width= 0.15),\n",
        "                                         shadow= True, startangle= 160, figsize= [13.66, 7.68], legend= True, labels = ['',''])\n",
        "plt.legend(['No Heart Disease', 'Heart Disease'])\n",
        "plt.ylabel('Males', size=14)\n",
        "\n",
        "plt.subplot(1,2,2)\n",
        "space = np.ones(2)/10\n",
        "females_data['target'].value_counts().plot(kind='pie', explode= space, fontsize= 14, autopct= '%3.1f%%', wedgeprops = dict(width=0.15),\n",
        "                                           shadow = True, startangle=160, figsize = [13.66, 7.68], legend = True, labels = ['',''])\n",
        "plt.legend(['No Heart Disease','Heart Disease'])\n",
        "plt.ylabel('Females', size=14)\n",
        "plt.suptitle('Proportion of Males and Females vs Heart Disease', size = 16)\n",
        "plt.show()"
      ]
    },
    {
      "cell_type": "markdown",
      "metadata": {
        "id": "mKpl5ZDNDhgG"
      },
      "source": [
        "Observations:\n",
        "1) Around 56% of males don't have heart disease while ~44% of male patients have any heart disease.\n",
        "2) Around 74% of female patients don't have heart disease while ~26% of female patients have any heart disease."
      ]
    },
    {
      "cell_type": "code",
      "execution_count": null,
      "metadata": {
        "colab": {
          "base_uri": "https://localhost:8080/",
          "height": 532
        },
        "id": "w28XSHSsEDoW",
        "outputId": "722cc73c-1cb3-4f49-f54b-27b290f78c91"
      },
      "outputs": [
        {
          "data": {
            "image/png": "[encoded data removed]",
            "text/plain": [
              "<Figure size 983.52x552.96 with 2 Axes>"
            ]
          },
          "metadata": {},
          "output_type": "display_data"
        }
      ],
      "source": [
        "# Question 2: What is the proportion of males and females having different type of chest pain?\n",
        "\n",
        "males_data = data[data['sex'] == 1]\n",
        "females_data = data[data['sex'] == 0]\n",
        "\n",
        "figure = plt.figure(figsize= [12,10])\n",
        "plt.subplot(1,2,1)\n",
        "space = np.ones(4)/10\n",
        "males_data['chest_pain_type'].value_counts().plot(kind='pie',fontsize=14, autopct= '%3.1f%%', wedgeprops = dict(width = 0.15),\n",
        "                                                  shadow= True, startangle= 160, figsize= [13.66, 7.68], legend = True, labels = ['','','',''])\n",
        "plt.legend(['Typical Angina','Non-Anginal Pain','Atypical Angina','Asymptomatic'])\n",
        "plt.ylabel('Males', size= 14)\n",
        "\n",
        "plt.subplot(1,2,2)\n",
        "space = np.ones(4)/10\n",
        "females_data['chest_pain_type'].value_counts().plot(kind='pie', fontsize=14, autopct= '%3.1f%%', wedgeprops= dict(width=0.15),\n",
        "                                                    shadow = True, startangle = 160, figsize= [13.66, 7.68], legend = True, labels = ['','','',''])\n",
        "plt.legend(['Typical Angina', 'Non-Anginal Pain','Atypical Angina','Asymptomatic'])\n",
        "plt.ylabel('Females', size=14)\n",
        "plt.suptitle('Males/Females vs Chest Pain', size= 16)\n",
        "plt.tight_layout(pad = 3.0)\n",
        "plt.show()\n"
      ]
    },
    {
      "cell_type": "markdown",
      "metadata": {
        "id": "4aYsvWGPJmVl"
      },
      "source": [
        "Question 3: What is the frequency of patients corresponding to the slope of the peak exercise ST segment?\n",
        "\n",
        "1) ST segment depression(horizontal or downsloping, upsloping) is the most reliable indicator of exercise-induced ischaemia.\n",
        "2) Ischaemia is a restriction in blood supply to tissues, causing a shortage of oxygen that is needed for cellular metabolism."
      ]
    },
    {
      "cell_type": "code",
      "execution_count": null,
      "metadata": {
        "colab": {
          "base_uri": "https://localhost:8080/",
          "height": 464
        },
        "id": "uLq5hjPHKHE7",
        "outputId": "dbb2014e-b123-42be-85d7-cfb52c3b235a"
      },
      "outputs": [
        {
          "data": {
            "image/png": "[encoded data removed]",
            "text/plain": [
              "<Figure size 864x504 with 1 Axes>"
            ]
          },
          "metadata": {},
          "output_type": "display_data"
        }
      ],
      "source": [
        "figure = plt.figure(figsize= [12,7])\n",
        "\n",
        "ax = sns.countplot(x = 'st_slope', hue = 'sex', data = data, palette = ['#F67088', '#38A7D0'])\n",
        "total = data.shape[0]\n",
        "\n",
        "for p in ax.patches:\n",
        "  percentage = '{:.2f}%'.format(100 * p.get_height() / total)\n",
        "  x = p.get_x() + p.get_width() / 3\n",
        "  y = p.get_y() + p.get_height()\n",
        "  ax.annotate(percentage, (x,y))\n",
        "\n",
        "plt.xlabel('ST Slope', size= 14)\n",
        "plt.xticks(ticks = [0,1,2], labels = ['Upsloping', 'Flat', 'Downsloping'], rotation = 0)\n",
        "plt.ylabel('Percentage of Patients', size= 14)\n",
        "plt.legend(labels = ['Female', 'Male'])\n",
        "plt.title('Slope of the peak exercise ST segment', size =16)\n",
        "plt.show()"
      ]
    },
    {
      "cell_type": "code",
      "execution_count": null,
      "metadata": {
        "colab": {
          "base_uri": "https://localhost:8080/",
          "height": 463
        },
        "id": "ewBUijdALx1w",
        "outputId": "5e12175c-2159-4b83-b8ee-3e0f88123090"
      },
      "outputs": [
        {
          "data": {
            "image/png": "[encoded data removed]",
            "text/plain": [
              "<Figure size 1080x504 with 1 Axes>"
            ]
          },
          "metadata": {},
          "output_type": "display_data"
        }
      ],
      "source": [
        "# Question 7: What is the association of cholestrol with age based on the sex of patients?\n",
        "# Note: Total cholesterol levels less than 200 milligrams per deciliter (mg/dL) are considered desirable for adults.\n",
        "\n",
        "figure = plt.figure(figsize = [15,7])\n",
        "sns.scatterplot(x = 'age', y = 'cholesterol', hue = 'sex', data = data, palette = ['#F67088', '#38A7D0'])\n",
        "plt.xlabel('Age', size=14)\n",
        "plt.ylabel('Cholesterol', size=14)\n",
        "plt.title('Correlation of Cholesterol in different Sex and Age', size= 16)\n",
        "plt.legend()\n",
        "plt.tight_layout(pad = 3.0)\n",
        "plt.show()"
      ]
    },
    {
      "cell_type": "markdown",
      "metadata": {
        "id": "ze5Mo5XWNi_S"
      },
      "source": [
        "Observations:\n",
        "1) Both male and female patients seem to have similar cholesterol levels upto 60 years.\n",
        "2) Some female patients above 60 years have higher cholesterol than male patients of the same age.\n",
        "\n"
      ]
    },
    {
      "cell_type": "markdown",
      "metadata": {
        "id": "kx2VWlvtN10j"
      },
      "source": [
        "7. Post Data Processing & Feature Selection.\n",
        "\n",
        "1) In this part we will perform encoding over categorical features and feed it to the Random Forest because machines can't understand human language.\n",
        "\n",
        "2) Random Forest will then identify important features for our model using threshold over the information gain over reduction in impurity.\n",
        "\n",
        "3) As we can see most of the features are already encoded, we need to encode only chest_pain_type feature.\n",
        "\n",
        "4) And finally we will split our data for the model development."
      ]
    },
    {
      "cell_type": "code",
      "execution_count": null,
      "metadata": {
        "id": "FCTUDuRuOgPM"
      },
      "outputs": [],
      "source": [
        "# Encoding Categorical Features - In this part we will perform transformation of categorical features to numeric using get_dummies()"
      ]
    },
    {
      "cell_type": "code",
      "execution_count": null,
      "metadata": {
        "colab": {
          "base_uri": "https://localhost:8080/",
          "height": 270
        },
        "id": "fQZCfJR9KKIc",
        "outputId": "5700a29e-5375-41fe-babd-6cacca330a19"
      },
      "outputs": [
        {
          "data": {
            "text/html": [
              "\n",
              "  <div id=\"df-86b3540c-2f66-4956-a6c1-cde1428867eb\">\n",
              "    <div class=\"colab-df-container\">\n",
              "      <div>\n",
              "<style scoped>\n",
              "    .dataframe tbody tr th:only-of-type {\n",
              "        vertical-align: middle;\n",
              "    }\n",
              "\n",
              "    .dataframe tbody tr th {\n",
              "        vertical-align: top;\n",
              "    }\n",
              "\n",
              "    .dataframe thead th {\n",
              "        text-align: right;\n",
              "    }\n",
              "</style>\n",
              "<table border=\"1\" class=\"dataframe\">\n",
              "  <thead>\n",
              "    <tr style=\"text-align: right;\">\n",
              "      <th></th>\n",
              "      <th>age</th>\n",
              "      <th>sex</th>\n",
              "      <th>chest_pain_type</th>\n",
              "      <th>resting_blood_pressure</th>\n",
              "      <th>cholesterol</th>\n",
              "      <th>fasting_blood_sugar</th>\n",
              "      <th>rest_ecg</th>\n",
              "      <th>max_heart_rate_achieved</th>\n",
              "      <th>exercise_induced_angina</th>\n",
              "      <th>st_depression</th>\n",
              "      <th>st_slope</th>\n",
              "      <th>num_major_vessels</th>\n",
              "      <th>thalassemia</th>\n",
              "      <th>target</th>\n",
              "    </tr>\n",
              "  </thead>\n",
              "  <tbody>\n",
              "    <tr>\n",
              "      <th>0</th>\n",
              "      <td>63</td>\n",
              "      <td>1</td>\n",
              "      <td>asymptomatic</td>\n",
              "      <td>145</td>\n",
              "      <td>233.0</td>\n",
              "      <td>1</td>\n",
              "      <td>0</td>\n",
              "      <td>150.0</td>\n",
              "      <td>0</td>\n",
              "      <td>2.3</td>\n",
              "      <td>0</td>\n",
              "      <td>0</td>\n",
              "      <td>1</td>\n",
              "      <td>1</td>\n",
              "    </tr>\n",
              "    <tr>\n",
              "      <th>1</th>\n",
              "      <td>37</td>\n",
              "      <td>1</td>\n",
              "      <td>non-anginal pain</td>\n",
              "      <td>130</td>\n",
              "      <td>250.0</td>\n",
              "      <td>0</td>\n",
              "      <td>1</td>\n",
              "      <td>187.0</td>\n",
              "      <td>0</td>\n",
              "      <td>3.5</td>\n",
              "      <td>0</td>\n",
              "      <td>0</td>\n",
              "      <td>2</td>\n",
              "      <td>1</td>\n",
              "    </tr>\n",
              "    <tr>\n",
              "      <th>2</th>\n",
              "      <td>41</td>\n",
              "      <td>0</td>\n",
              "      <td>atypical angina</td>\n",
              "      <td>130</td>\n",
              "      <td>204.0</td>\n",
              "      <td>0</td>\n",
              "      <td>0</td>\n",
              "      <td>172.0</td>\n",
              "      <td>0</td>\n",
              "      <td>1.4</td>\n",
              "      <td>2</td>\n",
              "      <td>0</td>\n",
              "      <td>2</td>\n",
              "      <td>1</td>\n",
              "    </tr>\n",
              "    <tr>\n",
              "      <th>3</th>\n",
              "      <td>56</td>\n",
              "      <td>1</td>\n",
              "      <td>atypical angina</td>\n",
              "      <td>120</td>\n",
              "      <td>236.0</td>\n",
              "      <td>0</td>\n",
              "      <td>1</td>\n",
              "      <td>178.0</td>\n",
              "      <td>0</td>\n",
              "      <td>0.8</td>\n",
              "      <td>2</td>\n",
              "      <td>0</td>\n",
              "      <td>2</td>\n",
              "      <td>1</td>\n",
              "    </tr>\n",
              "    <tr>\n",
              "      <th>4</th>\n",
              "      <td>57</td>\n",
              "      <td>0</td>\n",
              "      <td>typical angina</td>\n",
              "      <td>120</td>\n",
              "      <td>354.0</td>\n",
              "      <td>0</td>\n",
              "      <td>1</td>\n",
              "      <td>163.0</td>\n",
              "      <td>1</td>\n",
              "      <td>0.6</td>\n",
              "      <td>2</td>\n",
              "      <td>0</td>\n",
              "      <td>2</td>\n",
              "      <td>1</td>\n",
              "    </tr>\n",
              "  </tbody>\n",
              "</table>\n",
              "</div>\n",
              "      <button class=\"colab-df-convert\" onclick=\"convertToInteractive('df-86b3540c-2f66-4956-a6c1-cde1428867eb')\"\n",
              "              title=\"Convert this dataframe to an interactive table.\"\n",
              "              style=\"display:none;\">\n",
              "        \n",
              "  <svg xmlns=\"http://www.w3.org/2000/svg\" height=\"24px\"viewBox=\"0 0 24 24\"\n",
              "       width=\"24px\">\n",
              "    <path d=\"M0 0h24v24H0V0z\" fill=\"none\"/>\n",
              "    <path d=\"M18.56 5.44l.94 2.06.94-2.06 2.06-.94-2.06-.94-.94-2.06-.94 2.06-2.06.94zm-11 1L8.5 8.5l.94-2.06 2.06-.94-2.06-.94L8.5 2.5l-.94 2.06-2.06.94zm10 10l.94 2.06.94-2.06 2.06-.94-2.06-.94-.94-2.06-.94 2.06-2.06.94z\"/><path d=\"M17.41 7.96l-1.37-1.37c-.4-.4-.92-.59-1.43-.59-.52 0-1.04.2-1.43.59L10.3 9.45l-7.72 7.72c-.78.78-.78 2.05 0 2.83L4 21.41c.39.39.9.59 1.41.59.51 0 1.02-.2 1.41-.59l7.78-7.78 2.81-2.81c.8-.78.8-2.07 0-2.86zM5.41 20L4 18.59l7.72-7.72 1.47 1.35L5.41 20z\"/>\n",
              "  </svg>\n",
              "      </button>\n",
              "      \n",
              "  <style>\n",
              "    .colab-df-container {\n",
              "      display:flex;\n",
              "      flex-wrap:wrap;\n",
              "      gap: 12px;\n",
              "    }\n",
              "\n",
              "    .colab-df-convert {\n",
              "      background-color: #E8F0FE;\n",
              "      border: none;\n",
              "      border-radius: 50%;\n",
              "      cursor: pointer;\n",
              "      display: none;\n",
              "      fill: #1967D2;\n",
              "      height: 32px;\n",
              "      padding: 0 0 0 0;\n",
              "      width: 32px;\n",
              "    }\n",
              "\n",
              "    .colab-df-convert:hover {\n",
              "      background-color: #E2EBFA;\n",
              "      box-shadow: 0px 1px 2px rgba(60, 64, 67, 0.3), 0px 1px 3px 1px rgba(60, 64, 67, 0.15);\n",
              "      fill: #174EA6;\n",
              "    }\n",
              "\n",
              "    [theme=dark] .colab-df-convert {\n",
              "      background-color: #3B4455;\n",
              "      fill: #D2E3FC;\n",
              "    }\n",
              "\n",
              "    [theme=dark] .colab-df-convert:hover {\n",
              "      background-color: #434B5C;\n",
              "      box-shadow: 0px 1px 3px 1px rgba(0, 0, 0, 0.15);\n",
              "      filter: drop-shadow(0px 1px 2px rgba(0, 0, 0, 0.3));\n",
              "      fill: #FFFFFF;\n",
              "    }\n",
              "  </style>\n",
              "\n",
              "      <script>\n",
              "        const buttonEl =\n",
              "          document.querySelector('#df-86b3540c-2f66-4956-a6c1-cde1428867eb button.colab-df-convert');\n",
              "        buttonEl.style.display =\n",
              "          google.colab.kernel.accessAllowed ? 'block' : 'none';\n",
              "\n",
              "        async function convertToInteractive(key) {\n",
              "          const element = document.querySelector('#df-86b3540c-2f66-4956-a6c1-cde1428867eb');\n",
              "          const dataTable =\n",
              "            await google.colab.kernel.invokeFunction('convertToInteractive',\n",
              "                                                     [key], {});\n",
              "          if (!dataTable) return;\n",
              "\n",
              "          const docLinkHtml = 'Like what you see? Visit the ' +\n",
              "            '<a target=\"_blank\" href=https://colab.research.google.com/notebooks/data_table.ipynb>data table notebook</a>'\n",
              "            + ' to learn more about interactive tables.';\n",
              "          element.innerHTML = '';\n",
              "          dataTable['output_type'] = 'display_data';\n",
              "          await google.colab.output.renderOutput(dataTable, element);\n",
              "          const docLink = document.createElement('div');\n",
              "          docLink.innerHTML = docLinkHtml;\n",
              "          element.appendChild(docLink);\n",
              "        }\n",
              "      </script>\n",
              "    </div>\n",
              "  </div>\n",
              "  "
            ],
            "text/plain": [
              "   age  sex   chest_pain_type  resting_blood_pressure  cholesterol  \\\n",
              "0   63    1      asymptomatic                     145        233.0   \n",
              "1   37    1  non-anginal pain                     130        250.0   \n",
              "2   41    0   atypical angina                     130        204.0   \n",
              "3   56    1   atypical angina                     120        236.0   \n",
              "4   57    0    typical angina                     120        354.0   \n",
              "\n",
              "   fasting_blood_sugar  rest_ecg  max_heart_rate_achieved  \\\n",
              "0                    1         0                    150.0   \n",
              "1                    0         1                    187.0   \n",
              "2                    0         0                    172.0   \n",
              "3                    0         1                    178.0   \n",
              "4                    0         1                    163.0   \n",
              "\n",
              "   exercise_induced_angina  st_depression  st_slope  num_major_vessels  \\\n",
              "0                        0            2.3         0                  0   \n",
              "1                        0            3.5         0                  0   \n",
              "2                        0            1.4         2                  0   \n",
              "3                        0            0.8         2                  0   \n",
              "4                        1            0.6         2                  0   \n",
              "\n",
              "   thalassemia  target  \n",
              "0            1       1  \n",
              "1            2       1  \n",
              "2            2       1  \n",
              "3            2       1  \n",
              "4            2       1  "
            ]
          },
          "execution_count": 23,
          "metadata": {},
          "output_type": "execute_result"
        }
      ],
      "source": [
        "# Before Transformation\n",
        "data.head()"
      ]
    },
    {
      "cell_type": "markdown",
      "metadata": {
        "id": "u_VBW902OwoB"
      },
      "source": [
        "Observation: We can see chest_pain_type contains categorical labels."
      ]
    },
    {
      "cell_type": "code",
      "execution_count": null,
      "metadata": {
        "id": "LTpDgyazO3nN"
      },
      "outputs": [],
      "source": [
        "# Performing Operations:\n",
        "data = pd.get_dummies(data = data, columns = ['chest_pain_type'])"
      ]
    },
    {
      "cell_type": "code",
      "execution_count": null,
      "metadata": {
        "colab": {
          "base_uri": "https://localhost:8080/",
          "height": 193
        },
        "id": "xU90ySQIPBw6",
        "outputId": "e3c687ca-ea0c-4a84-dc40-d421f4885a72"
      },
      "outputs": [
        {
          "data": {
            "text/html": [
              "\n",
              "  <div id=\"df-57234ecd-bb74-41ab-89fe-95e39351ff0f\">\n",
              "    <div class=\"colab-df-container\">\n",
              "      <div>\n",
              "<style scoped>\n",
              "    .dataframe tbody tr th:only-of-type {\n",
              "        vertical-align: middle;\n",
              "    }\n",
              "\n",
              "    .dataframe tbody tr th {\n",
              "        vertical-align: top;\n",
              "    }\n",
              "\n",
              "    .dataframe thead th {\n",
              "        text-align: right;\n",
              "    }\n",
              "</style>\n",
              "<table border=\"1\" class=\"dataframe\">\n",
              "  <thead>\n",
              "    <tr style=\"text-align: right;\">\n",
              "      <th></th>\n",
              "      <th>age</th>\n",
              "      <th>sex</th>\n",
              "      <th>resting_blood_pressure</th>\n",
              "      <th>cholesterol</th>\n",
              "      <th>fasting_blood_sugar</th>\n",
              "      <th>rest_ecg</th>\n",
              "      <th>max_heart_rate_achieved</th>\n",
              "      <th>exercise_induced_angina</th>\n",
              "      <th>st_depression</th>\n",
              "      <th>st_slope</th>\n",
              "      <th>num_major_vessels</th>\n",
              "      <th>thalassemia</th>\n",
              "      <th>target</th>\n",
              "      <th>chest_pain_type_asymptomatic</th>\n",
              "      <th>chest_pain_type_atypical angina</th>\n",
              "      <th>chest_pain_type_non-anginal pain</th>\n",
              "      <th>chest_pain_type_typical angina</th>\n",
              "    </tr>\n",
              "  </thead>\n",
              "  <tbody>\n",
              "    <tr>\n",
              "      <th>0</th>\n",
              "      <td>63</td>\n",
              "      <td>1</td>\n",
              "      <td>145</td>\n",
              "      <td>233.0</td>\n",
              "      <td>1</td>\n",
              "      <td>0</td>\n",
              "      <td>150.0</td>\n",
              "      <td>0</td>\n",
              "      <td>2.3</td>\n",
              "      <td>0</td>\n",
              "      <td>0</td>\n",
              "      <td>1</td>\n",
              "      <td>1</td>\n",
              "      <td>1</td>\n",
              "      <td>0</td>\n",
              "      <td>0</td>\n",
              "      <td>0</td>\n",
              "    </tr>\n",
              "    <tr>\n",
              "      <th>1</th>\n",
              "      <td>37</td>\n",
              "      <td>1</td>\n",
              "      <td>130</td>\n",
              "      <td>250.0</td>\n",
              "      <td>0</td>\n",
              "      <td>1</td>\n",
              "      <td>187.0</td>\n",
              "      <td>0</td>\n",
              "      <td>3.5</td>\n",
              "      <td>0</td>\n",
              "      <td>0</td>\n",
              "      <td>2</td>\n",
              "      <td>1</td>\n",
              "      <td>0</td>\n",
              "      <td>0</td>\n",
              "      <td>1</td>\n",
              "      <td>0</td>\n",
              "    </tr>\n",
              "  </tbody>\n",
              "</table>\n",
              "</div>\n",
              "      <button class=\"colab-df-convert\" onclick=\"convertToInteractive('df-57234ecd-bb74-41ab-89fe-95e39351ff0f')\"\n",
              "              title=\"Convert this dataframe to an interactive table.\"\n",
              "              style=\"display:none;\">\n",
              "        \n",
              "  <svg xmlns=\"http://www.w3.org/2000/svg\" height=\"24px\"viewBox=\"0 0 24 24\"\n",
              "       width=\"24px\">\n",
              "    <path d=\"M0 0h24v24H0V0z\" fill=\"none\"/>\n",
              "    <path d=\"M18.56 5.44l.94 2.06.94-2.06 2.06-.94-2.06-.94-.94-2.06-.94 2.06-2.06.94zm-11 1L8.5 8.5l.94-2.06 2.06-.94-2.06-.94L8.5 2.5l-.94 2.06-2.06.94zm10 10l.94 2.06.94-2.06 2.06-.94-2.06-.94-.94-2.06-.94 2.06-2.06.94z\"/><path d=\"M17.41 7.96l-1.37-1.37c-.4-.4-.92-.59-1.43-.59-.52 0-1.04.2-1.43.59L10.3 9.45l-7.72 7.72c-.78.78-.78 2.05 0 2.83L4 21.41c.39.39.9.59 1.41.59.51 0 1.02-.2 1.41-.59l7.78-7.78 2.81-2.81c.8-.78.8-2.07 0-2.86zM5.41 20L4 18.59l7.72-7.72 1.47 1.35L5.41 20z\"/>\n",
              "  </svg>\n",
              "      </button>\n",
              "      \n",
              "  <style>\n",
              "    .colab-df-container {\n",
              "      display:flex;\n",
              "      flex-wrap:wrap;\n",
              "      gap: 12px;\n",
              "    }\n",
              "\n",
              "    .colab-df-convert {\n",
              "      background-color: #E8F0FE;\n",
              "      border: none;\n",
              "      border-radius: 50%;\n",
              "      cursor: pointer;\n",
              "      display: none;\n",
              "      fill: #1967D2;\n",
              "      height: 32px;\n",
              "      padding: 0 0 0 0;\n",
              "      width: 32px;\n",
              "    }\n",
              "\n",
              "    .colab-df-convert:hover {\n",
              "      background-color: #E2EBFA;\n",
              "      box-shadow: 0px 1px 2px rgba(60, 64, 67, 0.3), 0px 1px 3px 1px rgba(60, 64, 67, 0.15);\n",
              "      fill: #174EA6;\n",
              "    }\n",
              "\n",
              "    [theme=dark] .colab-df-convert {\n",
              "      background-color: #3B4455;\n",
              "      fill: #D2E3FC;\n",
              "    }\n",
              "\n",
              "    [theme=dark] .colab-df-convert:hover {\n",
              "      background-color: #434B5C;\n",
              "      box-shadow: 0px 1px 3px 1px rgba(0, 0, 0, 0.15);\n",
              "      filter: drop-shadow(0px 1px 2px rgba(0, 0, 0, 0.3));\n",
              "      fill: #FFFFFF;\n",
              "    }\n",
              "  </style>\n",
              "\n",
              "      <script>\n",
              "        const buttonEl =\n",
              "          document.querySelector('#df-57234ecd-bb74-41ab-89fe-95e39351ff0f button.colab-df-convert');\n",
              "        buttonEl.style.display =\n",
              "          google.colab.kernel.accessAllowed ? 'block' : 'none';\n",
              "\n",
              "        async function convertToInteractive(key) {\n",
              "          const element = document.querySelector('#df-57234ecd-bb74-41ab-89fe-95e39351ff0f');\n",
              "          const dataTable =\n",
              "            await google.colab.kernel.invokeFunction('convertToInteractive',\n",
              "                                                     [key], {});\n",
              "          if (!dataTable) return;\n",
              "\n",
              "          const docLinkHtml = 'Like what you see? Visit the ' +\n",
              "            '<a target=\"_blank\" href=https://colab.research.google.com/notebooks/data_table.ipynb>data table notebook</a>'\n",
              "            + ' to learn more about interactive tables.';\n",
              "          element.innerHTML = '';\n",
              "          dataTable['output_type'] = 'display_data';\n",
              "          await google.colab.output.renderOutput(dataTable, element);\n",
              "          const docLink = document.createElement('div');\n",
              "          docLink.innerHTML = docLinkHtml;\n",
              "          element.appendChild(docLink);\n",
              "        }\n",
              "      </script>\n",
              "    </div>\n",
              "  </div>\n",
              "  "
            ],
            "text/plain": [
              "   age  sex  resting_blood_pressure  cholesterol  fasting_blood_sugar  \\\n",
              "0   63    1                     145        233.0                    1   \n",
              "1   37    1                     130        250.0                    0   \n",
              "\n",
              "   rest_ecg  max_heart_rate_achieved  exercise_induced_angina  st_depression  \\\n",
              "0         0                    150.0                        0            2.3   \n",
              "1         1                    187.0                        0            3.5   \n",
              "\n",
              "   st_slope  num_major_vessels  thalassemia  target  \\\n",
              "0         0                  0            1       1   \n",
              "1         0                  0            2       1   \n",
              "\n",
              "   chest_pain_type_asymptomatic  chest_pain_type_atypical angina  \\\n",
              "0                             1                                0   \n",
              "1                             0                                0   \n",
              "\n",
              "   chest_pain_type_non-anginal pain  chest_pain_type_typical angina  \n",
              "0                                 0                               0  \n",
              "1                                 1                               0  "
            ]
          },
          "execution_count": 25,
          "metadata": {},
          "output_type": "execute_result"
        }
      ],
      "source": [
        "# After Transformation\n",
        "data.head(2)"
      ]
    },
    {
      "cell_type": "markdown",
      "metadata": {
        "id": "qYjf7FH5PMI7"
      },
      "source": [
        "Observation: We have successfully transformed the categorical data to numeric."
      ]
    },
    {
      "cell_type": "markdown",
      "metadata": {
        "id": "quZqxPpWPTAj"
      },
      "source": [
        "7.2 Feature Selection using Random Forest\n",
        "\n",
        "1) Now in real world, it is very rare that all the features are important while developing the model.\n",
        "2) So instead we analyze the impact of input over the target, either done by performing statistical tests or by using Random Forest.\n",
        "3) This interpretability is derived from the importance of each feature on the tree decision.\n",
        "4) In other words, it is easy to compute how much each feature is contributing to the decision."
      ]
    },
    {
      "cell_type": "code",
      "execution_count": null,
      "metadata": {
        "id": "mpchY1mkQIik"
      },
      "outputs": [],
      "source": [
        "X = data.drop('target', axis=1)\n",
        "y = data['target']"
      ]
    },
    {
      "cell_type": "code",
      "execution_count": null,
      "metadata": {
        "id": "0fKhyahqqLJG"
      },
      "outputs": [],
      "source": []
    },
    {
      "cell_type": "code",
      "execution_count": null,
      "metadata": {
        "colab": {
          "base_uri": "https://localhost:8080/"
        },
        "id": "ju8HHq73QQGJ",
        "outputId": "01711ce6-bbdd-4499-8b2b-04e17bdef5ef"
      },
      "outputs": [
        {
          "name": "stdout",
          "output_type": "stream",
          "text": [
            "Total Features Selected are 8\n",
            "Threshold set by Model: 0.06\n",
            "Features: ['age', 'resting_blood_pressure', 'cholesterol', 'max_heart_rate_achieved', 'st_depression', 'num_major_vessels', 'thalassemia', 'chest_pain_type_typical angina']\n"
          ]
        }
      ],
      "source": [
        "# Extracting important features\n",
        "selector = SelectFromModel(RandomForestClassifier(n_estimators=100, random_state=42,n_jobs=-1))\n",
        "selector.fit(X,y)\n",
        "\n",
        "# Extracting list of important features\n",
        "selected_feat = X.columns[(selector.get_support())].tolist()\n",
        "\n",
        "print('Total Features Selected are', len(selected_feat))\n",
        "\n",
        "# Estimated by taking mean(default) of feature imporatnce\n",
        "print('Threshold set by Model:', np.round(selector.threshold_, decimals= 2))\n",
        "print('Features:', selected_feat)"
      ]
    },
    {
      "cell_type": "code",
      "execution_count": null,
      "metadata": {
        "colab": {
          "base_uri": "https://localhost:8080/",
          "height": 519
        },
        "id": "q5OchzsfRDcU",
        "outputId": "4de24f42-0c15-4ce5-fc40-1f991cb6df19"
      },
      "outputs": [
        {
          "data": {
            "image/png": "[encoded data removed]",
            "text/plain": [
              "<Figure size 1080x576 with 1 Axes>"
            ]
          },
          "metadata": {},
          "output_type": "display_data"
        }
      ],
      "source": [
        "# Visualization of Important features - Below features are plotted against their relative importance (in %age), of each feature.\n",
        "\n",
        "figure = plt.figure(figsize = [15,8])\n",
        "\n",
        "# If you don't want relative importance, use relative = False in below method\n",
        "viz = FeatureImportances(selector.estimator, relative = False)\n",
        "viz.fit(X,y)\n",
        "\n",
        "plt.xlabel('Relative Importance', size =14)\n",
        "plt.ylabel('Features', size=.14)\n",
        "plt.title(label = 'Feature Importances', size = 16)\n",
        "plt.show()"
      ]
    },
    {
      "cell_type": "code",
      "execution_count": null,
      "metadata": {
        "colab": {
          "base_uri": "https://localhost:8080/"
        },
        "id": "qb22-abOQuuO",
        "outputId": "4f9840aa-49f3-4ffd-b919-7b706b560eb2"
      },
      "outputs": [
        {
          "name": "stdout",
          "output_type": "stream",
          "text": [
            "Training Data Shape: (260, 16) (260,)\n",
            "Testing Data Shape: (65, 16) (65,)\n"
          ]
        }
      ],
      "source": [
        "# Data Preparation - Now we will split or data in training and testing part for further development.\n",
        "\n",
        "X_train, X_test, y_train, y_test = train_test_split(X,y, test_size = 0.2, random_state= 42, stratify = y)\n",
        "\n",
        "print('Training Data Shape:', X_train.shape, y_train.shape)\n",
        "print('Testing Data Shape:', X_test.shape, y_test.shape)"
      ]
    },
    {
      "cell_type": "markdown",
      "metadata": {
        "id": "ZjiiFPXeSnEH"
      },
      "source": [
        "Model Development & Evaluation.\n",
        "\n",
        "1) In this section we will develop different models using only important feature as marked important by Random Forest.\n",
        "2) Then we will compare the results obtained from them and make our observation.\n",
        "3) For evaluation purpose, we will plot precision and recall for each estimator for which we have made a custom function below.\n",
        "4) Remember that we want generalize results i.e same results or error in testing data as that of training data.\n",
        "5) At the end we will tune our models if required."
      ]
    },
    {
      "cell_type": "code",
      "execution_count": null,
      "metadata": {
        "id": "IMdAHSwvm1CE"
      },
      "outputs": [],
      "source": [
        "def plot_precision_recall(y_true, y_pred, train_or_test):\n",
        "  \"\"\"\n",
        "  y_true: Actual values of the target\n",
        "  y_pred: Predicted values of the target. Either predict_proba or decision_function\n",
        "  line_show: Plot average values \"precision\" or \"recall\"\n",
        "  train_or_test: Train Data or Test Data\n",
        "  \"\"\"\n",
        "\n",
        "  precisions, recalls, thresholds = precision_recall_curve(y_true = y_true, probas_pred = y_pred)\n",
        "\n",
        "  average_precision = np.mean(precisions)\n",
        "  average_recall = np.mean(recalls)\n",
        "\n",
        "  sns.lineplot(x = recalls, y = precisions, linewidth = 2, ci = None)\n",
        "  plt.plot([0,1], [average_precision, average_precision], 'r-')\n",
        "  plt.plot([average_recall, average_recall], [0,1], 'g-')\n",
        "  plt.xlabel('Recall', fontsize = 14)\n",
        "  plt.xticks(ticks = [0,0.1,0.2,0.3,0.4,0.5,0.6,0.7,0.8,0.9,1.0])\n",
        "  plt.yticks(ticks = [0,0.1,0.2,0.3,0.4,0.5,0.6,0.7,0.8,0.9,1.0])\n",
        "  plt.ylabel('Precision', fontsize= 14)\n",
        "  plt.title(train_or_test, fontsize = 16)\n",
        "  plt.legend(labels = ['Binary PR Curve', 'AP{:.2f}'.format(average_precision), 'AR {:.2f}'.format(average_recall)])\n",
        "  plt.grid(True)\n",
        "\n"
      ]
    },
    {
      "cell_type": "code",
      "execution_count": null,
      "metadata": {
        "colab": {
          "base_uri": "https://localhost:8080/"
        },
        "id": "h97CkA3to50E",
        "outputId": "3f5d11ae-a95f-4a94-927b-6a7514f0f5f2"
      },
      "outputs": [
        {
          "name": "stdout",
          "output_type": "stream",
          "text": [
            "         Training Report       \n",
            "              precision    recall  f1-score   support\n",
            "\n",
            "           0       0.90      0.77      0.83       121\n",
            "           1       0.82      0.93      0.87       139\n",
            "\n",
            "    accuracy                           0.85       260\n",
            "   macro avg       0.86      0.85      0.85       260\n",
            "weighted avg       0.86      0.85      0.85       260\n",
            "\n",
            "         Testing Report        \n",
            "              precision    recall  f1-score   support\n",
            "\n",
            "           0       0.96      0.90      0.93        30\n",
            "           1       0.92      0.97      0.94        35\n",
            "\n",
            "    accuracy                           0.94        65\n",
            "   macro avg       0.94      0.94      0.94        65\n",
            "weighted avg       0.94      0.94      0.94        65\n",
            "\n"
          ]
        }
      ],
      "source": [
        "# Essential Feature Models - Logisitc Regression\n",
        "log = LogisticRegression(random_state= 42)\n",
        "log.fit(X_train, y_train)\n",
        "\n",
        "y_train_pred_count = log.predict(X_train)\n",
        "y_test_pred_count = log.predict(X_test)\n",
        "\n",
        "y_train_pred_proba = log.predict_proba(X_train)\n",
        "y_test_pred_proba = log.predict_proba(X_test)\n",
        "\n",
        "logistic_report_train = classification_report(y_train, y_train_pred_count)\n",
        "logistic_report_test = classification_report(y_test, y_test_pred_count)\n",
        "print('         Training Report       ')\n",
        "print(logistic_report_train)\n",
        "print('         Testing Report        ')\n",
        "print(logistic_report_test)"
      ]
    },
    {
      "cell_type": "code",
      "execution_count": null,
      "metadata": {
        "colab": {
          "base_uri": "https://localhost:8080/",
          "height": 659
        },
        "id": "puRMpM8KSmV9",
        "outputId": "73cefe75-d065-4040-ecd9-74c2e85bd7ad"
      },
      "outputs": [
        {
          "ename": "TypeError",
          "evalue": "ignored",
          "output_type": "error",
          "traceback": [
            "\u001b[0;31m---------------------------------------------------------------------------\u001b[0m",
            "\u001b[0;31mTypeError\u001b[0m                                 Traceback (most recent call last)",
            "\u001b[0;32m<ipython-input-33-e676f509d0c9>\u001b[0m in \u001b[0;36m<module>\u001b[0;34m\u001b[0m\n\u001b[1;32m      1\u001b[0m \u001b[0;31m# Confusion Matrix\u001b[0m\u001b[0;34m\u001b[0m\u001b[0;34m\u001b[0m\u001b[0m\n\u001b[1;32m      2\u001b[0m \u001b[0mfig\u001b[0m\u001b[0;34m,\u001b[0m \u001b[0;34m(\u001b[0m\u001b[0max1\u001b[0m\u001b[0;34m,\u001b[0m\u001b[0max2\u001b[0m\u001b[0;34m)\u001b[0m \u001b[0;34m=\u001b[0m \u001b[0mplt\u001b[0m\u001b[0;34m.\u001b[0m\u001b[0msubplots\u001b[0m\u001b[0;34m(\u001b[0m\u001b[0mnrows\u001b[0m \u001b[0;34m=\u001b[0m \u001b[0;36m1\u001b[0m\u001b[0;34m,\u001b[0m \u001b[0mncols\u001b[0m\u001b[0;34m=\u001b[0m \u001b[0;36m2\u001b[0m\u001b[0;34m,\u001b[0m \u001b[0msharex\u001b[0m \u001b[0;34m=\u001b[0m \u001b[0;32mFalse\u001b[0m\u001b[0;34m,\u001b[0m \u001b[0mfigsize\u001b[0m \u001b[0;34m=\u001b[0m \u001b[0;34m(\u001b[0m\u001b[0;36m15\u001b[0m\u001b[0;34m,\u001b[0m\u001b[0;36m7\u001b[0m\u001b[0;34m)\u001b[0m\u001b[0;34m)\u001b[0m\u001b[0;34m\u001b[0m\u001b[0;34m\u001b[0m\u001b[0m\n\u001b[0;32m----> 3\u001b[0;31m \u001b[0mConfusionMatrixDisplay\u001b[0m\u001b[0;34m(\u001b[0m\u001b[0mestimator\u001b[0m \u001b[0;34m=\u001b[0m \u001b[0mlog\u001b[0m\u001b[0;34m,\u001b[0m \u001b[0mX\u001b[0m \u001b[0;34m=\u001b[0m \u001b[0mX_train\u001b[0m\u001b[0;34m,\u001b[0m \u001b[0my_true\u001b[0m\u001b[0;34m=\u001b[0m \u001b[0my_train\u001b[0m\u001b[0;34m,\u001b[0m \u001b[0mvalues_format\u001b[0m \u001b[0;34m=\u001b[0m \u001b[0;34m'.5g'\u001b[0m\u001b[0;34m,\u001b[0m \u001b[0mcmap\u001b[0m \u001b[0;34m=\u001b[0m \u001b[0;34m'YlGnBu'\u001b[0m\u001b[0;34m,\u001b[0m \u001b[0max\u001b[0m \u001b[0;34m=\u001b[0m \u001b[0max1\u001b[0m\u001b[0;34m)\u001b[0m\u001b[0;34m\u001b[0m\u001b[0;34m\u001b[0m\u001b[0m\n\u001b[0m\u001b[1;32m      4\u001b[0m \u001b[0mConfusionMatrixDisplay\u001b[0m\u001b[0;34m(\u001b[0m\u001b[0mestimator\u001b[0m \u001b[0;34m=\u001b[0m \u001b[0mlog\u001b[0m\u001b[0;34m,\u001b[0m \u001b[0mX\u001b[0m\u001b[0;34m=\u001b[0m \u001b[0mX_test\u001b[0m\u001b[0;34m,\u001b[0m \u001b[0my_true\u001b[0m \u001b[0;34m=\u001b[0m \u001b[0my_test\u001b[0m\u001b[0;34m,\u001b[0m \u001b[0mvalues_format\u001b[0m \u001b[0;34m=\u001b[0m \u001b[0;34m'.5g'\u001b[0m\u001b[0;34m,\u001b[0m \u001b[0mcmap\u001b[0m \u001b[0;34m=\u001b[0m \u001b[0;34m'YlGnBu'\u001b[0m\u001b[0;34m,\u001b[0m \u001b[0max\u001b[0m \u001b[0;34m=\u001b[0m \u001b[0max2\u001b[0m\u001b[0;34m)\u001b[0m\u001b[0;34m\u001b[0m\u001b[0;34m\u001b[0m\u001b[0m\n\u001b[1;32m      5\u001b[0m \u001b[0max1\u001b[0m\u001b[0;34m.\u001b[0m\u001b[0mset_title\u001b[0m\u001b[0;34m(\u001b[0m\u001b[0mlabel\u001b[0m \u001b[0;34m=\u001b[0m \u001b[0;34m'Train Data'\u001b[0m\u001b[0;34m,\u001b[0m \u001b[0msize\u001b[0m \u001b[0;34m=\u001b[0m \u001b[0;36m14\u001b[0m\u001b[0;34m)\u001b[0m\u001b[0;34m\u001b[0m\u001b[0;34m\u001b[0m\u001b[0m\n",
            "\u001b[0;31mTypeError\u001b[0m: __init__() got an unexpected keyword argument 'estimator'"
          ]
        },
        {
          "data": {
            "image/png": "[encoded data removed]",
            "text/plain": [
              "<Figure size 1080x504 with 2 Axes>"
            ]
          },
          "metadata": {},
          "output_type": "display_data"
        }
      ],
      "source": [
        "# Confusion Matrix\n",
        "fig, (ax1,ax2) = plt.subplots(nrows = 1, ncols= 2, sharex = False, figsize = (15,7))\n",
        "ConfusionMatrixDisplay(estimator = log, X = X_train, y_true= y_train, values_format = '.5g', cmap = 'YlGnBu', ax = ax1)\n",
        "ConfusionMatrixDisplay(estimator = log, X= X_test, y_true = y_test, values_format = '.5g', cmap = 'YlGnBu', ax = ax2)\n",
        "ax1.set_title(label = 'Train Data', size = 14)\n",
        "ax2.set_title(label = 'Test Data', size = 14)\n",
        "ax1.grid(b = False)\n",
        "ax2.grid(b = False)\n",
        "plt.suptitle(t= 'Confusion Matrix', size = 16)\n",
        "plt.show()"
      ]
    },
    {
      "cell_type": "code",
      "execution_count": null,
      "metadata": {
        "colab": {
          "base_uri": "https://localhost:8080/",
          "height": 497
        },
        "id": "cZygNlCtrmSv",
        "outputId": "e3683352-8f8e-4e1c-c839-49ffe6c5ed18"
      },
      "outputs": [
        {
          "data": {
            "image/png": "[encoded data removed]",
            "text/plain": [
              "<Figure size 1080x504 with 2 Axes>"
            ]
          },
          "metadata": {},
          "output_type": "display_data"
        }
      ],
      "source": [
        "# NOTE: This precision and recall have been plotted only for positive class i.e. patient has heart disease.\n",
        "\n",
        "figure = plt.figure(figsize= [15,7])\n",
        "plt.subplot(1,2,1)\n",
        "plot_precision_recall(y_true = y_train, y_pred = y_train_pred_proba[:,1], train_or_test = 'Train Data')\n",
        "\n",
        "plt.subplot(1,2,2)\n",
        "plot_precision_recall(y_true = y_test, y_pred = y_test_pred_proba[:,1], train_or_test = 'Test Data')\n",
        "\n",
        "plt.suptitle(\"Precision & Recall Curve\", size =16)\n",
        "plt.show()"
      ]
    },
    {
      "cell_type": "code",
      "execution_count": null,
      "metadata": {
        "colab": {
          "base_uri": "https://localhost:8080/"
        },
        "id": "Ya_97Io4giL-",
        "outputId": "5fab83e0-e505-490f-85ae-ce1ffc095e6c"
      },
      "outputs": [
        {
          "name": "stdout",
          "output_type": "stream",
          "text": [
            "         Training Report       \n",
            "              precision    recall  f1-score   support\n",
            "\n",
            "           0       0.71      0.44      0.54       121\n",
            "           1       0.63      0.84      0.72       139\n",
            "\n",
            "    accuracy                           0.65       260\n",
            "   macro avg       0.67      0.64      0.63       260\n",
            "weighted avg       0.67      0.65      0.64       260\n",
            "\n",
            "         Testing Report        \n",
            "              precision    recall  f1-score   support\n",
            "\n",
            "           0       0.80      0.53      0.64        30\n",
            "           1       0.69      0.89      0.78        35\n",
            "\n",
            "    accuracy                           0.72        65\n",
            "   macro avg       0.74      0.71      0.71        65\n",
            "weighted avg       0.74      0.72      0.71        65\n",
            "\n"
          ]
        }
      ],
      "source": [
        "# Support Vector Classifier\n",
        "svc_clf = SVC(random_state = 42, probability = True)\n",
        "svc_clf.fit(X_train, y_train)\n",
        "\n",
        "y_train_pred_count = svc_clf.predict(X_train)\n",
        "y_test_pred_count = svc_clf.predict(X_test)\n",
        "\n",
        "y_train_pred_proba = svc_clf.predict(X_train)\n",
        "y_test_pred_proba = svc_clf.predict(X_test)\n",
        "\n",
        "svc_report_train = classification_report(y_train, y_train_pred_count)\n",
        "svc_report_test = classification_report(y_test, y_test_pred_count)\n",
        "\n",
        "print('         Training Report       ')\n",
        "print(svc_report_train)\n",
        "print('         Testing Report        ')\n",
        "print(svc_report_test)"
      ]
    },
    {
      "cell_type": "markdown",
      "metadata": {
        "id": "hSd-XZPchs9B"
      },
      "source": [
        "**Observation**\n",
        "\n",
        "1) Accuracy for training data is low as compared to testing data which is even worse than logistic regression.\n",
        "2) Similar is the case with Precision and recall for training and testing data."
      ]
    },
    {
      "cell_type": "code",
      "execution_count": null,
      "metadata": {
        "colab": {
          "base_uri": "https://localhost:8080/",
          "height": 659
        },
        "id": "h1XGd5Cah-ix",
        "outputId": "d1d6bc39-9f59-43a2-eb22-b41b8acda5f1"
      },
      "outputs": [
        {
          "ename": "NameError",
          "evalue": "ignored",
          "output_type": "error",
          "traceback": [
            "\u001b[0;31m---------------------------------------------------------------------------\u001b[0m",
            "\u001b[0;31mNameError\u001b[0m                                 Traceback (most recent call last)",
            "\u001b[0;32m<ipython-input-36-2bde042c1d70>\u001b[0m in \u001b[0;36m<module>\u001b[0;34m\u001b[0m\n\u001b[1;32m      1\u001b[0m \u001b[0;31m# Confusion Matrix\u001b[0m\u001b[0;34m\u001b[0m\u001b[0;34m\u001b[0m\u001b[0m\n\u001b[1;32m      2\u001b[0m \u001b[0mfig\u001b[0m\u001b[0;34m,\u001b[0m \u001b[0;34m(\u001b[0m\u001b[0max1\u001b[0m\u001b[0;34m,\u001b[0m \u001b[0max2\u001b[0m\u001b[0;34m)\u001b[0m \u001b[0;34m=\u001b[0m \u001b[0mplt\u001b[0m\u001b[0;34m.\u001b[0m\u001b[0msubplots\u001b[0m\u001b[0;34m(\u001b[0m\u001b[0mnrows\u001b[0m \u001b[0;34m=\u001b[0m \u001b[0;36m1\u001b[0m\u001b[0;34m,\u001b[0m \u001b[0mncols\u001b[0m \u001b[0;34m=\u001b[0m \u001b[0;36m2\u001b[0m\u001b[0;34m,\u001b[0m \u001b[0msharex\u001b[0m \u001b[0;34m=\u001b[0m \u001b[0;32mFalse\u001b[0m\u001b[0;34m,\u001b[0m\u001b[0mfigsize\u001b[0m\u001b[0;34m=\u001b[0m\u001b[0;34m(\u001b[0m\u001b[0;36m15\u001b[0m\u001b[0;34m,\u001b[0m\u001b[0;36m7\u001b[0m\u001b[0;34m)\u001b[0m\u001b[0;34m)\u001b[0m\u001b[0;34m\u001b[0m\u001b[0;34m\u001b[0m\u001b[0m\n\u001b[0;32m----> 3\u001b[0;31m \u001b[0mplot_confusion_matrix\u001b[0m\u001b[0;34m(\u001b[0m\u001b[0mestimator\u001b[0m \u001b[0;34m=\u001b[0m \u001b[0msvc_clf\u001b[0m\u001b[0;34m,\u001b[0m \u001b[0mX\u001b[0m \u001b[0;34m=\u001b[0m \u001b[0mX_train\u001b[0m\u001b[0;34m,\u001b[0m \u001b[0my_true\u001b[0m \u001b[0;34m=\u001b[0m \u001b[0my_train\u001b[0m\u001b[0;34m,\u001b[0m \u001b[0mvalues_format\u001b[0m \u001b[0;34m=\u001b[0m \u001b[0;34m'.5g'\u001b[0m\u001b[0;34m,\u001b[0m \u001b[0mcmap\u001b[0m \u001b[0;34m=\u001b[0m \u001b[0;34m'YlGnBu'\u001b[0m\u001b[0;34m,\u001b[0m \u001b[0max\u001b[0m \u001b[0;34m=\u001b[0m \u001b[0max1\u001b[0m\u001b[0;34m)\u001b[0m\u001b[0;34m\u001b[0m\u001b[0;34m\u001b[0m\u001b[0m\n\u001b[0m\u001b[1;32m      4\u001b[0m \u001b[0mplot_confusion_matrix\u001b[0m\u001b[0;34m(\u001b[0m\u001b[0mestimator\u001b[0m \u001b[0;34m=\u001b[0m \u001b[0msvc_clf\u001b[0m\u001b[0;34m,\u001b[0m \u001b[0mX\u001b[0m \u001b[0;34m=\u001b[0m \u001b[0mX_test\u001b[0m\u001b[0;34m,\u001b[0m \u001b[0my_true\u001b[0m \u001b[0;34m=\u001b[0m \u001b[0my_test\u001b[0m\u001b[0;34m,\u001b[0m \u001b[0mvalues_format\u001b[0m \u001b[0;34m=\u001b[0m \u001b[0;34m'.5g'\u001b[0m\u001b[0;34m,\u001b[0m \u001b[0mcmap\u001b[0m \u001b[0;34m=\u001b[0m \u001b[0;34m'YlGnBu'\u001b[0m\u001b[0;34m,\u001b[0m \u001b[0max\u001b[0m \u001b[0;34m=\u001b[0m \u001b[0max2\u001b[0m\u001b[0;34m)\u001b[0m\u001b[0;34m\u001b[0m\u001b[0;34m\u001b[0m\u001b[0m\n\u001b[1;32m      5\u001b[0m \u001b[0max1\u001b[0m\u001b[0;34m.\u001b[0m\u001b[0mset_title\u001b[0m\u001b[0;34m(\u001b[0m\u001b[0mlabel\u001b[0m \u001b[0;34m=\u001b[0m \u001b[0;34m'Train Data'\u001b[0m\u001b[0;34m,\u001b[0m \u001b[0msize\u001b[0m \u001b[0;34m=\u001b[0m \u001b[0;36m14\u001b[0m\u001b[0;34m)\u001b[0m\u001b[0;34m\u001b[0m\u001b[0;34m\u001b[0m\u001b[0m\n",
            "\u001b[0;31mNameError\u001b[0m: name 'plot_confusion_matrix' is not defined"
          ]
        },
        {
          "data": {
            "image/png": "[encoded data removed]",
            "text/plain": [
              "<Figure size 1080x504 with 2 Axes>"
            ]
          },
          "metadata": {},
          "output_type": "display_data"
        }
      ],
      "source": [
        "# Confusion Matrix\n",
        "fig, (ax1, ax2) = plt.subplots(nrows = 1, ncols = 2, sharex = False,figsize=(15,7))\n",
        "plot_confusion_matrix(estimator = svc_clf, X = X_train, y_true = y_train, values_format = '.5g', cmap = 'YlGnBu', ax = ax1)\n",
        "plot_confusion_matrix(estimator = svc_clf, X = X_test, y_true = y_test, values_format = '.5g', cmap = 'YlGnBu', ax = ax2)\n",
        "ax1.set_title(label = 'Train Data', size = 14)\n",
        "ax2.set_tilei(label = 'Test Data', size= 14)\n",
        "ax1.grid(b = False)\n",
        "ax2.grid(b = False)\n",
        "plt.suptitle(t = 'Confusion Matrix', size = 16)\n",
        "plt.show()"
      ]
    },
    {
      "cell_type": "code",
      "execution_count": null,
      "metadata": {
        "colab": {
          "base_uri": "https://localhost:8080/",
          "height": 659
        },
        "id": "yihU2ux6jYDU",
        "outputId": "706c3d4f-8529-490f-e9ca-96edc2898135"
      },
      "outputs": [
        {
          "ename": "IndexError",
          "evalue": "ignored",
          "output_type": "error",
          "traceback": [
            "\u001b[0;31m---------------------------------------------------------------------------\u001b[0m",
            "\u001b[0;31mIndexError\u001b[0m                                Traceback (most recent call last)",
            "\u001b[0;32m<ipython-input-38-e2990ca89218>\u001b[0m in \u001b[0;36m<module>\u001b[0;34m\u001b[0m\n\u001b[1;32m      3\u001b[0m \u001b[0mfigure\u001b[0m \u001b[0;34m=\u001b[0m \u001b[0mplt\u001b[0m\u001b[0;34m.\u001b[0m\u001b[0mfigure\u001b[0m\u001b[0;34m(\u001b[0m\u001b[0mfigsize\u001b[0m \u001b[0;34m=\u001b[0m \u001b[0;34m[\u001b[0m\u001b[0;36m15\u001b[0m\u001b[0;34m,\u001b[0m \u001b[0;36m7\u001b[0m\u001b[0;34m]\u001b[0m\u001b[0;34m)\u001b[0m\u001b[0;34m\u001b[0m\u001b[0;34m\u001b[0m\u001b[0m\n\u001b[1;32m      4\u001b[0m \u001b[0mplt\u001b[0m\u001b[0;34m.\u001b[0m\u001b[0msubplot\u001b[0m\u001b[0;34m(\u001b[0m\u001b[0;36m1\u001b[0m\u001b[0;34m,\u001b[0m \u001b[0;36m2\u001b[0m\u001b[0;34m,\u001b[0m \u001b[0;36m1\u001b[0m\u001b[0;34m)\u001b[0m\u001b[0;34m\u001b[0m\u001b[0;34m\u001b[0m\u001b[0m\n\u001b[0;32m----> 5\u001b[0;31m \u001b[0mplot_precision_recall\u001b[0m\u001b[0;34m(\u001b[0m\u001b[0my_true\u001b[0m \u001b[0;34m=\u001b[0m \u001b[0my_train\u001b[0m\u001b[0;34m,\u001b[0m \u001b[0my_pred\u001b[0m \u001b[0;34m=\u001b[0m \u001b[0my_train_pred_proba\u001b[0m\u001b[0;34m[\u001b[0m\u001b[0;34m:\u001b[0m\u001b[0;34m,\u001b[0m\u001b[0;36m1\u001b[0m\u001b[0;34m]\u001b[0m\u001b[0;34m,\u001b[0m \u001b[0mtrain_or_test\u001b[0m \u001b[0;34m=\u001b[0m\u001b[0;34m'Train Data'\u001b[0m\u001b[0;34m)\u001b[0m\u001b[0;34m\u001b[0m\u001b[0;34m\u001b[0m\u001b[0m\n\u001b[0m\u001b[1;32m      6\u001b[0m \u001b[0;34m\u001b[0m\u001b[0m\n\u001b[1;32m      7\u001b[0m \u001b[0mplt\u001b[0m\u001b[0;34m.\u001b[0m\u001b[0msubplot\u001b[0m\u001b[0;34m(\u001b[0m\u001b[0;36m1\u001b[0m\u001b[0;34m,\u001b[0m \u001b[0;36m2\u001b[0m\u001b[0;34m,\u001b[0m \u001b[0;36m2\u001b[0m\u001b[0;34m)\u001b[0m\u001b[0;34m\u001b[0m\u001b[0;34m\u001b[0m\u001b[0m\n",
            "\u001b[0;31mIndexError\u001b[0m: too many indices for array: array is 1-dimensional, but 2 were indexed"
          ]
        },
        {
          "data": {
            "image/png": "[encoded data removed]",
            "text/plain": [
              "<Figure size 1080x504 with 1 Axes>"
            ]
          },
          "metadata": {},
          "output_type": "display_data"
        }
      ],
      "source": [
        "# Note: This precision and recall have been plotted only for positive class i.e. patient has heart disease.\n",
        "\n",
        "figure = plt.figure(figsize = [15, 7])\n",
        "plt.subplot(1, 2, 1)\n",
        "plot_precision_recall(y_true = y_train, y_pred = y_train_pred_proba[:,1], train_or_test ='Train Data')\n",
        "\n",
        "plt.subplot(1, 2, 2)\n",
        "plot_precision_recall(y_true = y_test, y_pred = y_test_pred_proba[:, 1], train_or_test = 'Test Data')\n",
        "\n",
        "plt.suptitle('Precision & Recall Curve', size = 16)\n",
        "plt.show()"
      ]
    },
    {
      "cell_type": "code",
      "execution_count": null,
      "metadata": {
        "colab": {
          "base_uri": "https://localhost:8080/"
        },
        "id": "KgpCvmNKkcpI",
        "outputId": "4568865a-2d9c-4dcc-d325-74446fd66ebc"
      },
      "outputs": [
        {
          "name": "stdout",
          "output_type": "stream",
          "text": [
            "         Training Report         \n",
            "              precision    recall  f1-score   support\n",
            "\n",
            "           0       1.00      1.00      1.00       121\n",
            "           1       1.00      1.00      1.00       139\n",
            "\n",
            "    accuracy                           1.00       260\n",
            "   macro avg       1.00      1.00      1.00       260\n",
            "weighted avg       1.00      1.00      1.00       260\n",
            "\n",
            "         Testing Report          \n",
            "              precision    recall  f1-score   support\n",
            "\n",
            "           0       0.82      0.77      0.79        30\n",
            "           1       0.81      0.86      0.83        35\n",
            "\n",
            "    accuracy                           0.82        65\n",
            "   macro avg       0.82      0.81      0.81        65\n",
            "weighted avg       0.82      0.82      0.81        65\n",
            "\n"
          ]
        }
      ],
      "source": [
        "# Random Forest Classifier\n",
        "rfc = RandomForestClassifier(random_state = 42)\n",
        "rfc.fit(X_train, y_train)\n",
        "\n",
        "y_train_pred_count = rfc.predict(X_train)\n",
        "y_test_pred_count = rfc.predict(X_test)\n",
        "\n",
        "y_train_pred_proba = rfc.predict_proba(X_train)\n",
        "y_test_pred_proba = rfc.predict_proba(X_test)\n",
        "\n",
        "rfc_report_train = classification_report(y_train, y_train_pred_count)\n",
        "rfc_report_test = classification_report(y_test, y_test_pred_count)\n",
        "print('         Training Report         ')\n",
        "print(rfc_report_train)\n",
        "print('         Testing Report          ')\n",
        "print(rfc_report_test)"
      ]
    },
    {
      "cell_type": "markdown",
      "metadata": {
        "id": "NV1HIEGMlckw"
      },
      "source": [
        "Observation:\n",
        "\n",
        "1) Accuracy for training data is high as compared to testing data signifying overfitting over train data.\n",
        "2) But our accuracy on test has increased over rest models.\n",
        "3) Similar is the case with Precision and recall for training data and testing data.\n",
        "4) It shows that Random Forest worked better than other models, which will tune in upcoming session."
      ]
    },
    {
      "cell_type": "markdown",
      "metadata": {
        "id": "aUZuK7kql_1p"
      },
      "source": [
        "Fine Tuning of Model.\n",
        "1) Random Forest worked better than rest of the models.\n",
        "2) Tuning the model takes extensive work, so we will be working out with few parameters instead of large combinations.\n",
        "3) Now that we know that Random Forest performed better than any other model, we will fine tune it.\n",
        "4) For that we will implement Grid Search CV to find optimal setting for the model.\n",
        "5) Note: We want generalize results i.e same precision and recall on test data as that of train data.\n",
        ""
      ]
    },
    {
      "cell_type": "code",
      "execution_count": null,
      "metadata": {
        "id": "vTL6cyvTmsuA"
      },
      "outputs": [],
      "source": [
        "parameter_grid = [{'n_estimators' : [100, 200, 300, 400, 500], 'criterion':['gini','entropy'], 'max_depth' : [x for x in range(2,10)], 'bootstrap' : [True, False]}]"
      ]
    },
    {
      "cell_type": "code",
      "execution_count": null,
      "metadata": {
        "colab": {
          "background_save": true
        },
        "id": "mNztf23lnMbU",
        "outputId": "e38c57a3-74a7-446d-dd24-366fd2d79a4c"
      },
      "outputs": [
        {
          "data": {
            "text/html": [
              "<style>#sk-container-id-1 {color: black;background-color: white;}#sk-container-id-1 pre{padding: 0;}#sk-container-id-1 div.sk-toggleable {background-color: white;}#sk-container-id-1 label.sk-toggleable__label {cursor: pointer;display: block;width: 100%;margin-bottom: 0;padding: 0.3em;box-sizing: border-box;text-align: center;}#sk-container-id-1 label.sk-toggleable__label-arrow:before {content: \"▸\";float: left;margin-right: 0.25em;color: #696969;}#sk-container-id-1 label.sk-toggleable__label-arrow:hover:before {color: black;}#sk-container-id-1 div.sk-estimator:hover label.sk-toggleable__label-arrow:before {color: black;}#sk-container-id-1 div.sk-toggleable__content {max-height: 0;max-width: 0;overflow: hidden;text-align: left;background-color: #f0f8ff;}#sk-container-id-1 div.sk-toggleable__content pre {margin: 0.2em;color: black;border-radius: 0.25em;background-color: #f0f8ff;}#sk-container-id-1 input.sk-toggleable__control:checked~div.sk-toggleable__content {max-height: 200px;max-width: 100%;overflow: auto;}#sk-container-id-1 input.sk-toggleable__control:checked~label.sk-toggleable__label-arrow:before {content: \"▾\";}#sk-container-id-1 div.sk-estimator input.sk-toggleable__control:checked~label.sk-toggleable__label {background-color: #d4ebff;}#sk-container-id-1 div.sk-label input.sk-toggleable__control:checked~label.sk-toggleable__label {background-color: #d4ebff;}#sk-container-id-1 input.sk-hidden--visually {border: 0;clip: rect(1px 1px 1px 1px);clip: rect(1px, 1px, 1px, 1px);height: 1px;margin: -1px;overflow: hidden;padding: 0;position: absolute;width: 1px;}#sk-container-id-1 div.sk-estimator {font-family: monospace;background-color: #f0f8ff;border: 1px dotted black;border-radius: 0.25em;box-sizing: border-box;margin-bottom: 0.5em;}#sk-container-id-1 div.sk-estimator:hover {background-color: #d4ebff;}#sk-container-id-1 div.sk-parallel-item::after {content: \"\";width: 100%;border-bottom: 1px solid gray;flex-grow: 1;}#sk-container-id-1 div.sk-label:hover label.sk-toggleable__label {background-color: #d4ebff;}#sk-container-id-1 div.sk-serial::before {content: \"\";position: absolute;border-left: 1px solid gray;box-sizing: border-box;top: 0;bottom: 0;left: 50%;z-index: 0;}#sk-container-id-1 div.sk-serial {display: flex;flex-direction: column;align-items: center;background-color: white;padding-right: 0.2em;padding-left: 0.2em;position: relative;}#sk-container-id-1 div.sk-item {position: relative;z-index: 1;}#sk-container-id-1 div.sk-parallel {display: flex;align-items: stretch;justify-content: center;background-color: white;position: relative;}#sk-container-id-1 div.sk-item::before, #sk-container-id-1 div.sk-parallel-item::before {content: \"\";position: absolute;border-left: 1px solid gray;box-sizing: border-box;top: 0;bottom: 0;left: 50%;z-index: -1;}#sk-container-id-1 div.sk-parallel-item {display: flex;flex-direction: column;z-index: 1;position: relative;background-color: white;}#sk-container-id-1 div.sk-parallel-item:first-child::after {align-self: flex-end;width: 50%;}#sk-container-id-1 div.sk-parallel-item:last-child::after {align-self: flex-start;width: 50%;}#sk-container-id-1 div.sk-parallel-item:only-child::after {width: 0;}#sk-container-id-1 div.sk-dashed-wrapped {border: 1px dashed gray;margin: 0 0.4em 0.5em 0.4em;box-sizing: border-box;padding-bottom: 0.4em;background-color: white;}#sk-container-id-1 div.sk-label label {font-family: monospace;font-weight: bold;display: inline-block;line-height: 1.2em;}#sk-container-id-1 div.sk-label-container {text-align: center;}#sk-container-id-1 div.sk-container {/* jupyter's `normalize.less` sets `[hidden] { display: none; }` but bootstrap.min.css set `[hidden] { display: none !important; }` so we also need the `!important` here to be able to override the default hidden behavior on the sphinx rendered scikit-learn.org. See: https://github.com/scikit-learn/scikit-learn/issues/21755 */display: inline-block !important;position: relative;}#sk-container-id-1 div.sk-text-repr-fallback {display: none;}</style><div id=\"sk-container-id-1\" class=\"sk-top-container\"><div class=\"sk-text-repr-fallback\"><pre>RandomForestClassifier(bootstrap=False, criterion=&#x27;entropy&#x27;, max_depth=2,\n",
              "                       n_jobs=-1, random_state=42)</pre><b>In a Jupyter environment, please rerun this cell to show the HTML representation or trust the notebook. <br />On GitHub, the HTML representation is unable to render, please try loading this page with nbviewer.org.</b></div><div class=\"sk-container\" hidden><div class=\"sk-item\"><div class=\"sk-estimator sk-toggleable\"><input class=\"sk-toggleable__control sk-hidden--visually\" id=\"sk-estimator-id-1\" type=\"checkbox\" checked><label for=\"sk-estimator-id-1\" class=\"sk-toggleable__label sk-toggleable__label-arrow\">RandomForestClassifier</label><div class=\"sk-toggleable__content\"><pre>RandomForestClassifier(bootstrap=False, criterion=&#x27;entropy&#x27;, max_depth=2,\n",
              "                       n_jobs=-1, random_state=42)</pre></div></div></div></div></div>"
            ],
            "text/plain": [
              "RandomForestClassifier(bootstrap=False, criterion='entropy', max_depth=2,\n",
              "                       n_jobs=-1, random_state=42)"
            ]
          },
          "execution_count": 41,
          "metadata": {},
          "output_type": "execute_result"
        }
      ],
      "source": [
        "rand_forest = RandomForestClassifier(random_state = 42, n_jobs = -1)\n",
        "random_search = GridSearchCV(estimator = rand_forest, param_grid = parameter_grid, scoring = 'f1', n_jobs = -1, cv = 10, return_train_score = True)\n",
        "random_search.fit(X_train, y_train)\n",
        "random_search.best_estimator_"
      ]
    },
    {
      "cell_type": "code",
      "execution_count": null,
      "metadata": {
        "id": "_SJg7Qpqn6Ft"
      },
      "outputs": [],
      "source": [
        "random_forest.best_params_"
      ]
    },
    {
      "cell_type": "code",
      "execution_count": null,
      "metadata": {
        "id": "nlHZGn_YoJGV"
      },
      "outputs": [],
      "source": [
        "pd.DataFrame(random_search.cv_results)"
      ]
    },
    {
      "cell_type": "code",
      "execution_count": null,
      "metadata": {
        "id": "DJP-kBuiouzt"
      },
      "outputs": [],
      "source": [
        "# Final Model\n",
        "rfc = random_search.best_estimator_\n",
        "rfc.fit(X_train, y_train)\n",
        "\n",
        "y_train_pred_count = rfc.predict(X_train)\n",
        "y_test_pred_count = rfc.predict(X_test)\n",
        "\n",
        "y_train_pred_proba = rfc.predict_proba(X_train)\n",
        "y_test_pred_proba = rfc.predict_proba(X_test)\n",
        "\n",
        "rfc_report_train = classification_report(y_train, y_train_pred_count)\n",
        "rfc_report_test =  classification_report(y_test, y_test_pred_count)\n",
        "print('         Training Report     ')\n",
        "print(rfc_report_train)\n",
        "print('         Testing Report      ')\n",
        "print(rfc_report_test)"
      ]
    },
    {
      "cell_type": "markdown",
      "metadata": {
        "id": "DFFmNcULqJDt"
      },
      "source": [
        "Observation:\n",
        "We can see that from than the Random Forest without optimization was overfitting over the training data at 100%.\n",
        "But now the generalization error is very close to the training error."
      ]
    }
  ],
  "metadata": {
    "colab": {
      "provenance": [],
      "authorship_tag": "ABX9TyM1q3HPx/VvCN+OzEGSaTWs",
      "include_colab_link": true
    },
    "kernelspec": {
      "display_name": "Python 3",
      "name": "python3"
    },
    "language_info": {
      "name": "python"
    }
  },
  "nbformat": 4,
  "nbformat_minor": 0
}